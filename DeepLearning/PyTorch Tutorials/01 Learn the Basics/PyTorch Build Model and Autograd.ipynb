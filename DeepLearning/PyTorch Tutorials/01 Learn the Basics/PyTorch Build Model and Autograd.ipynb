{
 "cells": [
  {
   "cell_type": "markdown",
   "id": "27d988b4",
   "metadata": {},
   "source": [
    "### PyTorch Building a Model\n",
    "#### LINK: https://pytorch.org/tutorials/beginner/basics/buildmodel_tutorial.html"
   ]
  },
  {
   "cell_type": "code",
   "execution_count": 5,
   "id": "fc2db31a",
   "metadata": {},
   "outputs": [],
   "source": [
    "import os\n",
    "import torch\n",
    "from torch import nn\n",
    "from torch.utils.data import DataLoader\n",
    "from torchvision import datasets, transforms"
   ]
  },
  {
   "cell_type": "code",
   "execution_count": 6,
   "id": "55171704",
   "metadata": {},
   "outputs": [
    {
     "name": "stdout",
     "output_type": "stream",
     "text": [
      "Using cuda device\n"
     ]
    }
   ],
   "source": [
    "device = \"cuda\" if torch.cuda.is_available() else \"cpu\"\n",
    "print(f\"Using {device} device\")"
   ]
  },
  {
   "cell_type": "code",
   "execution_count": 11,
   "id": "0dbb2213",
   "metadata": {},
   "outputs": [],
   "source": [
    "class NeuralNetwork(nn.Module):\n",
    "    def __init__(self):\n",
    "        super(NeuralNetwork, self).__init__()\n",
    "        self.flatten = nn.Flatten()\n",
    "        self.linear_relu_stack = nn.Sequential(\n",
    "            nn.Linear(28*28, 512),\n",
    "            nn.ReLU(),\n",
    "            nn.Linear(512, 512),\n",
    "            nn.ReLU(),\n",
    "            nn.Linear(512, 10),\n",
    "        )\n",
    "        \n",
    "    def forward(self, x):\n",
    "        x = self.flatten(x)\n",
    "        logits = self.linear_relu_stack(x)\n",
    "        return logits"
   ]
  },
  {
   "cell_type": "code",
   "execution_count": 12,
   "id": "2c000ff6",
   "metadata": {},
   "outputs": [
    {
     "name": "stdout",
     "output_type": "stream",
     "text": [
      "NeuralNetwork(\n",
      "  (flatten): Flatten(start_dim=1, end_dim=-1)\n",
      "  (linear_relu_stack): Sequential(\n",
      "    (0): Linear(in_features=784, out_features=512, bias=True)\n",
      "    (1): ReLU()\n",
      "    (2): Linear(in_features=512, out_features=512, bias=True)\n",
      "    (3): ReLU()\n",
      "    (4): Linear(in_features=512, out_features=10, bias=True)\n",
      "  )\n",
      ")\n"
     ]
    }
   ],
   "source": [
    "model = NeuralNetwork().to(device)\n",
    "print(model)"
   ]
  },
  {
   "cell_type": "code",
   "execution_count": 16,
   "id": "445f6156",
   "metadata": {},
   "outputs": [
    {
     "name": "stdout",
     "output_type": "stream",
     "text": [
      "Predicted class: tensor([5], device='cuda:0')\n"
     ]
    }
   ],
   "source": [
    "X = torch.rand(1, 28, 28, device=device)\n",
    "logits = model(X)\n",
    "pred_probab = nn.Softmax(dim=1)(logits)\n",
    "y_pred =  pred_probab.argmax(1)\n",
    "print(f\"Predicted class: {y_pred}\")"
   ]
  },
  {
   "cell_type": "code",
   "execution_count": 18,
   "id": "2e4354f4",
   "metadata": {},
   "outputs": [
    {
     "name": "stdout",
     "output_type": "stream",
     "text": [
      "torch.Size([3, 28, 28])\n"
     ]
    }
   ],
   "source": [
    "input_image = torch.rand(3, 28, 28)\n",
    "print(input_image.size())"
   ]
  },
  {
   "cell_type": "code",
   "execution_count": 20,
   "id": "8e71a7ec",
   "metadata": {},
   "outputs": [
    {
     "name": "stdout",
     "output_type": "stream",
     "text": [
      "torch.Size([3, 784])\n"
     ]
    }
   ],
   "source": [
    "flatten = nn.Flatten()\n",
    "flat_image = flatten(input_image)\n",
    "print(flat_image.size())"
   ]
  },
  {
   "cell_type": "code",
   "execution_count": 21,
   "id": "246afd9b",
   "metadata": {},
   "outputs": [
    {
     "name": "stdout",
     "output_type": "stream",
     "text": [
      "torch.Size([3, 20])\n"
     ]
    }
   ],
   "source": [
    "layer1 = nn.Linear(in_features=28*28, out_features=20)\n",
    "hidden1 = layer1(flat_image)\n",
    "print(hidden1.size())"
   ]
  },
  {
   "cell_type": "code",
   "execution_count": 22,
   "id": "b361bcd6",
   "metadata": {},
   "outputs": [
    {
     "name": "stdout",
     "output_type": "stream",
     "text": [
      "Before ReLU: tensor([[ 0.1035, -0.0135, -0.5511, -0.1003, -0.9261, -0.4185,  0.1529, -0.7432,\n",
      "          0.0191, -0.2835,  0.6657, -0.3055,  0.8433, -0.0525, -0.0291, -0.2603,\n",
      "         -0.3643,  0.1342, -0.2791, -0.1942],\n",
      "        [-0.0685,  0.0250, -0.2871,  0.1251, -0.6783, -0.3011, -0.0920, -0.6878,\n",
      "         -0.3220, -0.1649,  0.5057, -0.2445,  0.6750,  0.1841, -0.0795, -0.1923,\n",
      "         -0.3218, -0.0403, -0.4453, -0.1763],\n",
      "        [ 0.1118,  0.1348, -0.4441,  0.2330, -0.7526, -0.1250,  0.1076, -0.5817,\n",
      "         -0.2912,  0.0546,  0.8322,  0.0706,  0.8581, -0.0554, -0.0958, -0.2699,\n",
      "         -0.5522,  0.2274,  0.0465, -0.1030]], grad_fn=<AddmmBackward0>)\n",
      "\n",
      "\n",
      "After ReLU: tensor([[0.1035, 0.0000, 0.0000, 0.0000, 0.0000, 0.0000, 0.1529, 0.0000, 0.0191,\n",
      "         0.0000, 0.6657, 0.0000, 0.8433, 0.0000, 0.0000, 0.0000, 0.0000, 0.1342,\n",
      "         0.0000, 0.0000],\n",
      "        [0.0000, 0.0250, 0.0000, 0.1251, 0.0000, 0.0000, 0.0000, 0.0000, 0.0000,\n",
      "         0.0000, 0.5057, 0.0000, 0.6750, 0.1841, 0.0000, 0.0000, 0.0000, 0.0000,\n",
      "         0.0000, 0.0000],\n",
      "        [0.1118, 0.1348, 0.0000, 0.2330, 0.0000, 0.0000, 0.1076, 0.0000, 0.0000,\n",
      "         0.0546, 0.8322, 0.0706, 0.8581, 0.0000, 0.0000, 0.0000, 0.0000, 0.2274,\n",
      "         0.0465, 0.0000]], grad_fn=<ReluBackward0>)\n"
     ]
    }
   ],
   "source": [
    "print(f\"Before ReLU: {hidden1}\\n\\n\")\n",
    "hidden1 = nn.ReLU()(hidden1)\n",
    "print(f\"After ReLU: {hidden1}\")"
   ]
  },
  {
   "cell_type": "code",
   "execution_count": 25,
   "id": "aa436c4b",
   "metadata": {},
   "outputs": [
    {
     "name": "stdout",
     "output_type": "stream",
     "text": [
      "torch.Size([3, 10])\n",
      "tensor([[ 0.0470,  0.3495, -0.1065,  0.3001, -0.2620,  0.2499, -0.0930, -0.2885,\n",
      "         -0.2120, -0.2822],\n",
      "        [ 0.0093,  0.3299, -0.1286,  0.3054, -0.2957,  0.2588, -0.1097, -0.2925,\n",
      "         -0.1159, -0.2835],\n",
      "        [ 0.0484,  0.3315, -0.0646,  0.2494, -0.2067,  0.2335, -0.0009, -0.2923,\n",
      "         -0.2087, -0.2279]], grad_fn=<AddmmBackward0>)\n"
     ]
    }
   ],
   "source": [
    "seq_modules = nn.Sequential(\n",
    "    flatten,\n",
    "    layer1,\n",
    "    nn.ReLU(),\n",
    "    nn.Linear(20, 10)\n",
    ")\n",
    "input_image = torch.rand(3,28,28)\n",
    "logits = seq_modules(input_image)\n",
    "print(logits.size())\n",
    "print(logits)"
   ]
  },
  {
   "cell_type": "code",
   "execution_count": 28,
   "id": "65607904",
   "metadata": {},
   "outputs": [
    {
     "name": "stdout",
     "output_type": "stream",
     "text": [
      "tensor([[0.1049, 0.1419, 0.0900, 0.1351, 0.0770, 0.1285, 0.0912, 0.0750, 0.0810,\n",
      "         0.0755],\n",
      "        [0.1013, 0.1396, 0.0883, 0.1362, 0.0747, 0.1300, 0.0900, 0.0749, 0.0894,\n",
      "         0.0756],\n",
      "        [0.1040, 0.1380, 0.0929, 0.1271, 0.0806, 0.1251, 0.0990, 0.0740, 0.0804,\n",
      "         0.0789]], grad_fn=<SoftmaxBackward0>)\n",
      "tensor([1, 1, 1])\n"
     ]
    }
   ],
   "source": [
    "softmax = nn.Softmax(dim=1)\n",
    "pred_probab = softmax(logits)\n",
    "print(pred_probab)\n",
    "print(pred_probab.argmax(1))"
   ]
  },
  {
   "cell_type": "code",
   "execution_count": 29,
   "id": "f241330c",
   "metadata": {},
   "outputs": [
    {
     "name": "stdout",
     "output_type": "stream",
     "text": [
      "Model structure: NeuralNetwork(\n",
      "  (flatten): Flatten(start_dim=1, end_dim=-1)\n",
      "  (linear_relu_stack): Sequential(\n",
      "    (0): Linear(in_features=784, out_features=512, bias=True)\n",
      "    (1): ReLU()\n",
      "    (2): Linear(in_features=512, out_features=512, bias=True)\n",
      "    (3): ReLU()\n",
      "    (4): Linear(in_features=512, out_features=10, bias=True)\n",
      "  )\n",
      ")\n",
      "\n",
      "\n",
      "Layer: linear_relu_stack.0.weight | Size: <built-in method size of Parameter object at 0x7f5c2a794ae0> | Values: tensor([[ 0.0052,  0.0217, -0.0304,  ..., -0.0103, -0.0089, -0.0202],\n",
      "        [-0.0245, -0.0278, -0.0192,  ..., -0.0316, -0.0190,  0.0257]],\n",
      "       device='cuda:0', grad_fn=<SliceBackward0>) \n",
      "\n",
      "Layer: linear_relu_stack.0.bias | Size: <built-in method size of Parameter object at 0x7f5c2a58d710> | Values: tensor([-0.0244, -0.0026], device='cuda:0', grad_fn=<SliceBackward0>) \n",
      "\n",
      "Layer: linear_relu_stack.2.weight | Size: <built-in method size of Parameter object at 0x7f5c2a6bc950> | Values: tensor([[ 0.0246, -0.0278,  0.0348,  ..., -0.0006, -0.0384, -0.0135],\n",
      "        [ 0.0355, -0.0101,  0.0012,  ...,  0.0077,  0.0415, -0.0140]],\n",
      "       device='cuda:0', grad_fn=<SliceBackward0>) \n",
      "\n",
      "Layer: linear_relu_stack.2.bias | Size: <built-in method size of Parameter object at 0x7f5c2a9dc770> | Values: tensor([-0.0063,  0.0228], device='cuda:0', grad_fn=<SliceBackward0>) \n",
      "\n",
      "Layer: linear_relu_stack.4.weight | Size: <built-in method size of Parameter object at 0x7f5c2a9dc090> | Values: tensor([[-0.0324, -0.0377, -0.0191,  ...,  0.0146,  0.0193, -0.0094],\n",
      "        [ 0.0241,  0.0287, -0.0435,  ...,  0.0303,  0.0221, -0.0298]],\n",
      "       device='cuda:0', grad_fn=<SliceBackward0>) \n",
      "\n",
      "Layer: linear_relu_stack.4.bias | Size: <built-in method size of Parameter object at 0x7f5c2a9dcc20> | Values: tensor([-0.0331,  0.0290], device='cuda:0', grad_fn=<SliceBackward0>) \n",
      "\n"
     ]
    }
   ],
   "source": [
    "print(f\"Model structure: {model}\\n\\n\")\n",
    "\n",
    "for name, param in model.named_parameters():\n",
    "    print(f\"Layer: {name} | Size: {param.size} | Values: {param[:2]} \\n\")"
   ]
  },
  {
   "cell_type": "markdown",
   "id": "4d2aee3d",
   "metadata": {},
   "source": [
    "### PyTorch Autograd\n",
    "#### LINK: https://pytorch.org/tutorials/beginner/basics/autogradqs_tutorial.html"
   ]
  },
  {
   "cell_type": "code",
   "execution_count": 33,
   "id": "8c64ded7",
   "metadata": {},
   "outputs": [],
   "source": [
    "# Consider the simplest one-layer neural network, with input x, parameters w and b, and some loss function. \n",
    "# It can be defined in PyTorch in the following manner:\n",
    "\n",
    "x = torch.ones(5) # input tensor\n",
    "y = torch.ones(3) # expected output\n",
    "w = torch.randn(5, 3, requires_grad=True) # weights\n",
    "b = torch.rand(3, requires_grad=True) # bias\n",
    "z = torch.matmul(x, w) + b\n",
    "loss = torch.nn.functional.binary_cross_entropy_with_logits(z, y)"
   ]
  },
  {
   "cell_type": "code",
   "execution_count": 34,
   "id": "4f5d32ee",
   "metadata": {},
   "outputs": [
    {
     "name": "stdout",
     "output_type": "stream",
     "text": [
      "Gradient function for z = <AddBackward0 object at 0x7f5c2a6da920>\n",
      "Gradient function for loss = <BinaryCrossEntropyWithLogitsBackward0 object at 0x7f5c2a6dab00>\n"
     ]
    }
   ],
   "source": [
    "print(f\"Gradient function for z = {z.grad_fn}\")\n",
    "print(f\"Gradient function for loss = {loss.grad_fn}\")"
   ]
  },
  {
   "cell_type": "code",
   "execution_count": 40,
   "id": "fc758d19",
   "metadata": {},
   "outputs": [
    {
     "name": "stdout",
     "output_type": "stream",
     "text": [
      "tensor([[-0.3090, -0.2646, -0.2011],\n",
      "        [-0.3090, -0.2646, -0.2011],\n",
      "        [-0.3090, -0.2646, -0.2011],\n",
      "        [-0.3090, -0.2646, -0.2011],\n",
      "        [-0.3090, -0.2646, -0.2011]])\n",
      "tensor([-0.3090, -0.2646, -0.2011])\n"
     ]
    }
   ],
   "source": [
    "# Computing gradients\n",
    "loss.backward()\n",
    "print(w.grad)\n",
    "print(b.grad)"
   ]
  },
  {
   "cell_type": "code",
   "execution_count": 41,
   "id": "5eec3d5b",
   "metadata": {},
   "outputs": [
    {
     "name": "stdout",
     "output_type": "stream",
     "text": [
      "True\n",
      "False\n"
     ]
    }
   ],
   "source": [
    "# Disabling gradient tracking\n",
    "z = torch.matmul(x, w) + b\n",
    "print(z.requires_grad)\n",
    "\n",
    "with torch.no_grad():\n",
    "    z = torch.matmul(x, w) + b\n",
    "print(z.requires_grad)"
   ]
  },
  {
   "cell_type": "code",
   "execution_count": 42,
   "id": "91e6725a",
   "metadata": {},
   "outputs": [
    {
     "name": "stdout",
     "output_type": "stream",
     "text": [
      "False\n"
     ]
    }
   ],
   "source": [
    "z = torch.matmul(x, w) + b\n",
    "z_det = z.detach()\n",
    "print(z_det.requires_grad)"
   ]
  },
  {
   "cell_type": "code",
   "execution_count": 44,
   "id": "8fb491d2",
   "metadata": {},
   "outputs": [
    {
     "name": "stdout",
     "output_type": "stream",
     "text": [
      "First call\n",
      "tensor([[4., 2., 2., 2., 2.],\n",
      "        [2., 4., 2., 2., 2.],\n",
      "        [2., 2., 4., 2., 2.],\n",
      "        [2., 2., 2., 4., 2.],\n",
      "        [2., 2., 2., 2., 4.]])\n",
      "\n",
      "Second call\n",
      "tensor([[8., 4., 4., 4., 4.],\n",
      "        [4., 8., 4., 4., 4.],\n",
      "        [4., 4., 8., 4., 4.],\n",
      "        [4., 4., 4., 8., 4.],\n",
      "        [4., 4., 4., 4., 8.]])\n",
      "\n",
      "Call after zeroing gradients\n",
      "tensor([[4., 2., 2., 2., 2.],\n",
      "        [2., 4., 2., 2., 2.],\n",
      "        [2., 2., 4., 2., 2.],\n",
      "        [2., 2., 2., 4., 2.],\n",
      "        [2., 2., 2., 2., 4.]])\n"
     ]
    }
   ],
   "source": [
    "# Optional: Tensor Gradients and Jacobian Products\n",
    "inp = torch.eye(5, requires_grad=True)\n",
    "out = (inp+1).pow(2)\n",
    "out.backward(torch.ones_like(inp), retain_graph=True)\n",
    "print(f\"First call\\n{inp.grad}\")\n",
    "out.backward(torch.ones_like(inp), retain_graph=True)\n",
    "print(f\"\\nSecond call\\n{inp.grad}\")\n",
    "inp.grad.zero_()\n",
    "out.backward(torch.ones_like(inp), retain_graph=True)\n",
    "print(f\"\\nCall after zeroing gradients\\n{inp.grad}\")"
   ]
  },
  {
   "cell_type": "code",
   "execution_count": null,
   "id": "2d40b991",
   "metadata": {},
   "outputs": [],
   "source": []
  },
  {
   "cell_type": "code",
   "execution_count": null,
   "id": "c9fb1c50",
   "metadata": {},
   "outputs": [],
   "source": []
  },
  {
   "cell_type": "code",
   "execution_count": null,
   "id": "81cf2e65",
   "metadata": {},
   "outputs": [],
   "source": []
  },
  {
   "cell_type": "code",
   "execution_count": null,
   "id": "4af42dbb",
   "metadata": {},
   "outputs": [],
   "source": []
  }
 ],
 "metadata": {
  "kernelspec": {
   "display_name": "Python 3 (ipykernel)",
   "language": "python",
   "name": "python3"
  },
  "language_info": {
   "codemirror_mode": {
    "name": "ipython",
    "version": 3
   },
   "file_extension": ".py",
   "mimetype": "text/x-python",
   "name": "python",
   "nbconvert_exporter": "python",
   "pygments_lexer": "ipython3",
   "version": "3.10.4"
  }
 },
 "nbformat": 4,
 "nbformat_minor": 5
}
