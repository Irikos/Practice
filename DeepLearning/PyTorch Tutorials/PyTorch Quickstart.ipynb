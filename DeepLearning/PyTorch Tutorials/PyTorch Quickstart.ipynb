{
 "cells": [
  {
   "cell_type": "markdown",
   "id": "95648096",
   "metadata": {},
   "source": [
    "### Pytorch QUICKSTART\n",
    "##### LINK: https://pytorch.org/tutorials/beginner/basics/quickstart_tutorial.html"
   ]
  },
  {
   "cell_type": "code",
   "execution_count": 2,
   "id": "b9938cf5",
   "metadata": {},
   "outputs": [],
   "source": [
    "import torch\n",
    "from torch import nn\n",
    "from torch.utils.data import DataLoader\n",
    "from torchvision import datasets\n",
    "from torchvision.transforms import ToTensor"
   ]
  },
  {
   "cell_type": "code",
   "execution_count": 6,
   "id": "7472a5d9",
   "metadata": {
    "scrolled": true
   },
   "outputs": [
    {
     "name": "stdout",
     "output_type": "stream",
     "text": [
      "Downloading http://fashion-mnist.s3-website.eu-central-1.amazonaws.com/train-images-idx3-ubyte.gz\n",
      "Downloading http://fashion-mnist.s3-website.eu-central-1.amazonaws.com/train-images-idx3-ubyte.gz to ../../datasets/pytorch_tutorials/FashionMNIST/raw/train-images-idx3-ubyte.gz\n"
     ]
    },
    {
     "data": {
      "application/json": {
       "ascii": false,
       "bar_format": null,
       "colour": null,
       "elapsed": 0.021098613739013672,
       "initial": 0,
       "n": 0,
       "ncols": null,
       "nrows": 73,
       "postfix": null,
       "prefix": "",
       "rate": null,
       "total": 26421880,
       "unit": "it",
       "unit_divisor": 1000,
       "unit_scale": false
      },
      "application/vnd.jupyter.widget-view+json": {
       "model_id": "627d61246fba412184a62f475c846311",
       "version_major": 2,
       "version_minor": 0
      },
      "text/plain": [
       "  0%|          | 0/26421880 [00:00<?, ?it/s]"
      ]
     },
     "metadata": {},
     "output_type": "display_data"
    },
    {
     "name": "stdout",
     "output_type": "stream",
     "text": [
      "Extracting ../../datasets/pytorch_tutorials/FashionMNIST/raw/train-images-idx3-ubyte.gz to ../../datasets/pytorch_tutorials/FashionMNIST/raw\n",
      "\n",
      "Downloading http://fashion-mnist.s3-website.eu-central-1.amazonaws.com/train-labels-idx1-ubyte.gz\n",
      "Downloading http://fashion-mnist.s3-website.eu-central-1.amazonaws.com/train-labels-idx1-ubyte.gz to ../../datasets/pytorch_tutorials/FashionMNIST/raw/train-labels-idx1-ubyte.gz\n"
     ]
    },
    {
     "data": {
      "application/json": {
       "ascii": false,
       "bar_format": null,
       "colour": null,
       "elapsed": 0.020568132400512695,
       "initial": 0,
       "n": 0,
       "ncols": null,
       "nrows": 73,
       "postfix": null,
       "prefix": "",
       "rate": null,
       "total": 29515,
       "unit": "it",
       "unit_divisor": 1000,
       "unit_scale": false
      },
      "application/vnd.jupyter.widget-view+json": {
       "model_id": "7aec600c096c4c6b93d738917c6cca3b",
       "version_major": 2,
       "version_minor": 0
      },
      "text/plain": [
       "  0%|          | 0/29515 [00:00<?, ?it/s]"
      ]
     },
     "metadata": {},
     "output_type": "display_data"
    },
    {
     "name": "stdout",
     "output_type": "stream",
     "text": [
      "Extracting ../../datasets/pytorch_tutorials/FashionMNIST/raw/train-labels-idx1-ubyte.gz to ../../datasets/pytorch_tutorials/FashionMNIST/raw\n",
      "\n",
      "Downloading http://fashion-mnist.s3-website.eu-central-1.amazonaws.com/t10k-images-idx3-ubyte.gz\n",
      "Downloading http://fashion-mnist.s3-website.eu-central-1.amazonaws.com/t10k-images-idx3-ubyte.gz to ../../datasets/pytorch_tutorials/FashionMNIST/raw/t10k-images-idx3-ubyte.gz\n"
     ]
    },
    {
     "data": {
      "application/json": {
       "ascii": false,
       "bar_format": null,
       "colour": null,
       "elapsed": 0.021256446838378906,
       "initial": 0,
       "n": 0,
       "ncols": null,
       "nrows": 73,
       "postfix": null,
       "prefix": "",
       "rate": null,
       "total": 4422102,
       "unit": "it",
       "unit_divisor": 1000,
       "unit_scale": false
      },
      "application/vnd.jupyter.widget-view+json": {
       "model_id": "ab2cd14882f54f1593d2d8f901356275",
       "version_major": 2,
       "version_minor": 0
      },
      "text/plain": [
       "  0%|          | 0/4422102 [00:00<?, ?it/s]"
      ]
     },
     "metadata": {},
     "output_type": "display_data"
    },
    {
     "name": "stdout",
     "output_type": "stream",
     "text": [
      "Extracting ../../datasets/pytorch_tutorials/FashionMNIST/raw/t10k-images-idx3-ubyte.gz to ../../datasets/pytorch_tutorials/FashionMNIST/raw\n",
      "\n",
      "Downloading http://fashion-mnist.s3-website.eu-central-1.amazonaws.com/t10k-labels-idx1-ubyte.gz\n",
      "Downloading http://fashion-mnist.s3-website.eu-central-1.amazonaws.com/t10k-labels-idx1-ubyte.gz to ../../datasets/pytorch_tutorials/FashionMNIST/raw/t10k-labels-idx1-ubyte.gz\n"
     ]
    },
    {
     "data": {
      "application/json": {
       "ascii": false,
       "bar_format": null,
       "colour": null,
       "elapsed": 0.020881175994873047,
       "initial": 0,
       "n": 0,
       "ncols": null,
       "nrows": 73,
       "postfix": null,
       "prefix": "",
       "rate": null,
       "total": 5148,
       "unit": "it",
       "unit_divisor": 1000,
       "unit_scale": false
      },
      "application/vnd.jupyter.widget-view+json": {
       "model_id": "48fdfa7150564fcc91177626703f1609",
       "version_major": 2,
       "version_minor": 0
      },
      "text/plain": [
       "  0%|          | 0/5148 [00:00<?, ?it/s]"
      ]
     },
     "metadata": {},
     "output_type": "display_data"
    },
    {
     "name": "stdout",
     "output_type": "stream",
     "text": [
      "Extracting ../../datasets/pytorch_tutorials/FashionMNIST/raw/t10k-labels-idx1-ubyte.gz to ../../datasets/pytorch_tutorials/FashionMNIST/raw\n",
      "\n"
     ]
    }
   ],
   "source": [
    "training_data = datasets.FashionMNIST(\n",
    "    root=\"../../datasets/pytorch_tutorials\",\n",
    "    train=True,\n",
    "    download=True,\n",
    "    transform=ToTensor(),\n",
    ")\n",
    "\n",
    "test_data = datasets.FashionMNIST(\n",
    "    root=\"../../datasets/pytorch_tutorials\",\n",
    "    train=False,\n",
    "    download=True,\n",
    "    transform=ToTensor(),\n",
    ")"
   ]
  },
  {
   "cell_type": "code",
   "execution_count": 8,
   "id": "b19e4d22",
   "metadata": {},
   "outputs": [
    {
     "name": "stdout",
     "output_type": "stream",
     "text": [
      "Shape of X [N, C, H, W]: torch.Size([64, 1, 28, 28])\n",
      "Shape of y: torch.Size([64]) torch.int64\n"
     ]
    }
   ],
   "source": [
    "batch_size = 64\n",
    "\n",
    "# Create data loaders\n",
    "train_dataloader = DataLoader(training_data, batch_size=batch_size)\n",
    "test_dataloader = DataLoader(test_data, batch_size=batch_size)\n",
    "\n",
    "for X, y in test_dataloader:\n",
    "    print(f\"Shape of X [N, C, H, W]: {X.shape}\")\n",
    "    print(f\"Shape of y: {y.shape} {y.dtype}\")\n",
    "    break"
   ]
  },
  {
   "cell_type": "code",
   "execution_count": 12,
   "id": "23259d8c",
   "metadata": {},
   "outputs": [
    {
     "name": "stdout",
     "output_type": "stream",
     "text": [
      "Using cuda device\n",
      "NeuralNetwork(\n",
      "  (flatten): Flatten(start_dim=1, end_dim=-1)\n",
      "  (linear_relu_stack): Sequential(\n",
      "    (0): Linear(in_features=784, out_features=512, bias=True)\n",
      "    (1): ReLU()\n",
      "    (2): Linear(in_features=512, out_features=512, bias=True)\n",
      "    (3): ReLU()\n",
      "    (4): Linear(in_features=512, out_features=10, bias=True)\n",
      "  )\n",
      ")\n"
     ]
    }
   ],
   "source": [
    "### CREATING MODELS ###\n",
    "device = \"cuda\" if torch.cuda.is_available() else \"cpu\"\n",
    "\n",
    "print(f\"Using {device} device\")\n",
    "\n",
    "# Define model\n",
    "class NeuralNetwork(nn.Module):\n",
    "    def __init__(self):\n",
    "        super(NeuralNetwork, self).__init__()\n",
    "        self.flatten = nn.Flatten()\n",
    "        self.linear_relu_stack = nn.Sequential(\n",
    "            nn.Linear(28*28, 512),\n",
    "            nn.ReLU(),\n",
    "            nn.Linear(512, 512),\n",
    "            nn.ReLU(),\n",
    "            nn.Linear(512, 10)\n",
    "        )\n",
    "        \n",
    "    def forward(self, x):\n",
    "        x = self.flatten(x)\n",
    "        logits = self.linear_relu_stack(x)\n",
    "        return logits\n",
    "\n",
    "model = NeuralNetwork().to(device)\n",
    "print(model)"
   ]
  },
  {
   "cell_type": "code",
   "execution_count": 13,
   "id": "52505785",
   "metadata": {},
   "outputs": [],
   "source": [
    "loss_fn = nn.CrossEntropyLoss()\n",
    "optimizer = torch.optim.SGD(model.parameters(), lr=1e-3)"
   ]
  },
  {
   "cell_type": "code",
   "execution_count": 17,
   "id": "01cbd1b6",
   "metadata": {},
   "outputs": [],
   "source": [
    "def train(dataloader, model, loss_fn, optimizer):\n",
    "    size = len(dataloader.dataset)\n",
    "    model.train()\n",
    "    for batch, (X, y) in enumerate(dataloader):\n",
    "        X = X.to(device)\n",
    "        y = y.to(device)\n",
    "        \n",
    "        # Compute prediction error\n",
    "        pred = model(X)\n",
    "        loss = loss_fn(pred, y)\n",
    "        \n",
    "        # Backpropagation\n",
    "        optimizer.zero_grad()\n",
    "        loss.backward()\n",
    "        optimizer.step()\n",
    "        \n",
    "        if batch % 100 == 0:\n",
    "            loss = loss.item()\n",
    "            current = batch * len(X)\n",
    "            print(f\"loss: {loss:>7f} [{current:>5d}]/{size:>5d}]\")\n",
    "            \n",
    "def test(dataloader, model, loss_fn):\n",
    "    size = len(dataloader.dataset)\n",
    "    num_batches = len(dataloader)\n",
    "    model.eval()\n",
    "    test_loss, correct = 0, 0\n",
    "    with torch.no_grad():\n",
    "        for X, y in dataloader:\n",
    "            X = X.to(device)\n",
    "            y = y.to(device)\n",
    "            pred = model(X)\n",
    "            test_loss += loss_fn(pred, y).item()\n",
    "            correct += (pred.argmax(1) == y).type(torch.float).sum().item()\n",
    "    \n",
    "    test_loss /= num_batches\n",
    "    correct /= size\n",
    "    print(f\"Test Error: \\n Accuracy: {(100*correct):>0.1f}%, Avg loss: {test_loss:>8f} \\n\")\n"
   ]
  },
  {
   "cell_type": "code",
   "execution_count": 19,
   "id": "a4e01e0e",
   "metadata": {},
   "outputs": [
    {
     "name": "stdout",
     "output_type": "stream",
     "text": [
      "Epoch 1\n",
      "-------------------------------\n",
      "loss: 1.039816 [    0]/60000]\n",
      "loss: 1.052227 [ 6400]/60000]\n",
      "loss: 0.867296 [12800]/60000]\n",
      "loss: 1.019560 [19200]/60000]\n",
      "loss: 0.903219 [25600]/60000]\n",
      "loss: 0.922184 [32000]/60000]\n",
      "loss: 0.968943 [38400]/60000]\n",
      "loss: 0.930818 [44800]/60000]\n",
      "loss: 0.953914 [51200]/60000]\n",
      "loss: 0.891871 [57600]/60000]\n",
      "Test Error: \n",
      " Accuracy: 67.2%, Avg loss: 0.907162 \n",
      "\n",
      "Epoch 2\n",
      "-------------------------------\n",
      "loss: 0.953414 [    0]/60000]\n",
      "loss: 0.983684 [ 6400]/60000]\n",
      "loss: 0.785557 [12800]/60000]\n",
      "loss: 0.954970 [19200]/60000]\n",
      "loss: 0.845227 [25600]/60000]\n",
      "loss: 0.855641 [32000]/60000]\n",
      "loss: 0.913971 [38400]/60000]\n",
      "loss: 0.880806 [44800]/60000]\n",
      "loss: 0.896548 [51200]/60000]\n",
      "loss: 0.844030 [57600]/60000]\n",
      "Test Error: \n",
      " Accuracy: 68.1%, Avg loss: 0.855851 \n",
      "\n",
      "Epoch 3\n",
      "-------------------------------\n",
      "loss: 0.887204 [    0]/60000]\n",
      "loss: 0.933089 [ 6400]/60000]\n",
      "loss: 0.724738 [12800]/60000]\n",
      "loss: 0.907117 [19200]/60000]\n",
      "loss: 0.804354 [25600]/60000]\n",
      "loss: 0.806343 [32000]/60000]\n",
      "loss: 0.872740 [38400]/60000]\n",
      "loss: 0.845674 [44800]/60000]\n",
      "loss: 0.853095 [51200]/60000]\n",
      "loss: 0.807901 [57600]/60000]\n",
      "Test Error: \n",
      " Accuracy: 69.4%, Avg loss: 0.817172 \n",
      "\n",
      "Epoch 4\n",
      "-------------------------------\n",
      "loss: 0.834144 [    0]/60000]\n",
      "loss: 0.892742 [ 6400]/60000]\n",
      "loss: 0.677600 [12800]/60000]\n",
      "loss: 0.870047 [19200]/60000]\n",
      "loss: 0.773655 [25600]/60000]\n",
      "loss: 0.768862 [32000]/60000]\n",
      "loss: 0.839520 [38400]/60000]\n",
      "loss: 0.819426 [44800]/60000]\n",
      "loss: 0.819140 [51200]/60000]\n",
      "loss: 0.779216 [57600]/60000]\n",
      "Test Error: \n",
      " Accuracy: 70.7%, Avg loss: 0.786477 \n",
      "\n",
      "Epoch 5\n",
      "-------------------------------\n",
      "loss: 0.790258 [    0]/60000]\n",
      "loss: 0.858893 [ 6400]/60000]\n",
      "loss: 0.639501 [12800]/60000]\n",
      "loss: 0.840506 [19200]/60000]\n",
      "loss: 0.749117 [25600]/60000]\n",
      "loss: 0.739503 [32000]/60000]\n",
      "loss: 0.811031 [38400]/60000]\n",
      "loss: 0.798425 [44800]/60000]\n",
      "loss: 0.791342 [51200]/60000]\n",
      "loss: 0.755197 [57600]/60000]\n",
      "Test Error: \n",
      " Accuracy: 71.8%, Avg loss: 0.760905 \n",
      "\n",
      "Epoch 6\n",
      "-------------------------------\n",
      "loss: 0.752732 [    0]/60000]\n",
      "loss: 0.829367 [ 6400]/60000]\n",
      "loss: 0.607501 [12800]/60000]\n",
      "loss: 0.815858 [19200]/60000]\n",
      "loss: 0.728511 [25600]/60000]\n",
      "loss: 0.715911 [32000]/60000]\n",
      "loss: 0.785716 [38400]/60000]\n",
      "loss: 0.780795 [44800]/60000]\n",
      "loss: 0.767830 [51200]/60000]\n",
      "loss: 0.734502 [57600]/60000]\n",
      "Test Error: \n",
      " Accuracy: 73.0%, Avg loss: 0.738808 \n",
      "\n",
      "Epoch 7\n",
      "-------------------------------\n",
      "loss: 0.719918 [    0]/60000]\n",
      "loss: 0.802774 [ 6400]/60000]\n",
      "loss: 0.580018 [12800]/60000]\n",
      "loss: 0.794880 [19200]/60000]\n",
      "loss: 0.710670 [25600]/60000]\n",
      "loss: 0.696264 [32000]/60000]\n",
      "loss: 0.762785 [38400]/60000]\n",
      "loss: 0.765272 [44800]/60000]\n",
      "loss: 0.747474 [51200]/60000]\n",
      "loss: 0.716247 [57600]/60000]\n",
      "Test Error: \n",
      " Accuracy: 74.1%, Avg loss: 0.719204 \n",
      "\n",
      "Epoch 8\n",
      "-------------------------------\n",
      "loss: 0.690823 [    0]/60000]\n",
      "loss: 0.778530 [ 6400]/60000]\n",
      "loss: 0.556026 [12800]/60000]\n",
      "loss: 0.776622 [19200]/60000]\n",
      "loss: 0.695133 [25600]/60000]\n",
      "loss: 0.679746 [32000]/60000]\n",
      "loss: 0.741688 [38400]/60000]\n",
      "loss: 0.751310 [44800]/60000]\n",
      "loss: 0.729520 [51200]/60000]\n",
      "loss: 0.699749 [57600]/60000]\n",
      "Test Error: \n",
      " Accuracy: 75.0%, Avg loss: 0.701484 \n",
      "\n",
      "Epoch 9\n",
      "-------------------------------\n",
      "loss: 0.664894 [    0]/60000]\n",
      "loss: 0.756283 [ 6400]/60000]\n",
      "loss: 0.534811 [12800]/60000]\n",
      "loss: 0.760399 [19200]/60000]\n",
      "loss: 0.681363 [25600]/60000]\n",
      "loss: 0.665671 [32000]/60000]\n",
      "loss: 0.722051 [38400]/60000]\n",
      "loss: 0.738748 [44800]/60000]\n",
      "loss: 0.713731 [51200]/60000]\n",
      "loss: 0.684702 [57600]/60000]\n",
      "Test Error: \n",
      " Accuracy: 75.8%, Avg loss: 0.685321 \n",
      "\n",
      "Epoch 10\n",
      "-------------------------------\n",
      "loss: 0.641683 [    0]/60000]\n",
      "loss: 0.735811 [ 6400]/60000]\n",
      "loss: 0.515929 [12800]/60000]\n",
      "loss: 0.745795 [19200]/60000]\n",
      "loss: 0.669184 [25600]/60000]\n",
      "loss: 0.653514 [32000]/60000]\n",
      "loss: 0.703755 [38400]/60000]\n",
      "loss: 0.727384 [44800]/60000]\n",
      "loss: 0.699816 [51200]/60000]\n",
      "loss: 0.670853 [57600]/60000]\n",
      "Test Error: \n",
      " Accuracy: 76.4%, Avg loss: 0.670493 \n",
      "\n",
      "Epoch 11\n",
      "-------------------------------\n",
      "loss: 0.620803 [    0]/60000]\n",
      "loss: 0.716960 [ 6400]/60000]\n",
      "loss: 0.499070 [12800]/60000]\n",
      "loss: 0.732403 [19200]/60000]\n",
      "loss: 0.658231 [25600]/60000]\n",
      "loss: 0.642880 [32000]/60000]\n",
      "loss: 0.686740 [38400]/60000]\n",
      "loss: 0.717188 [44800]/60000]\n",
      "loss: 0.687690 [51200]/60000]\n",
      "loss: 0.658027 [57600]/60000]\n",
      "Test Error: \n",
      " Accuracy: 77.1%, Avg loss: 0.656874 \n",
      "\n",
      "Epoch 12\n",
      "-------------------------------\n",
      "loss: 0.602004 [    0]/60000]\n",
      "loss: 0.699637 [ 6400]/60000]\n",
      "loss: 0.484030 [12800]/60000]\n",
      "loss: 0.720164 [19200]/60000]\n",
      "loss: 0.648424 [25600]/60000]\n",
      "loss: 0.633504 [32000]/60000]\n",
      "loss: 0.670977 [38400]/60000]\n",
      "loss: 0.708245 [44800]/60000]\n",
      "loss: 0.677133 [51200]/60000]\n",
      "loss: 0.646100 [57600]/60000]\n",
      "Test Error: \n",
      " Accuracy: 77.6%, Avg loss: 0.644371 \n",
      "\n",
      "Epoch 13\n",
      "-------------------------------\n",
      "loss: 0.585159 [    0]/60000]\n",
      "loss: 0.683738 [ 6400]/60000]\n",
      "loss: 0.470558 [12800]/60000]\n",
      "loss: 0.708851 [19200]/60000]\n",
      "loss: 0.639582 [25600]/60000]\n",
      "loss: 0.625118 [32000]/60000]\n",
      "loss: 0.656347 [38400]/60000]\n",
      "loss: 0.700490 [44800]/60000]\n",
      "loss: 0.667970 [51200]/60000]\n",
      "loss: 0.634888 [57600]/60000]\n",
      "Test Error: \n",
      " Accuracy: 78.0%, Avg loss: 0.632880 \n",
      "\n",
      "Epoch 14\n",
      "-------------------------------\n",
      "loss: 0.569922 [    0]/60000]\n",
      "loss: 0.669113 [ 6400]/60000]\n",
      "loss: 0.458430 [12800]/60000]\n",
      "loss: 0.698348 [19200]/60000]\n",
      "loss: 0.631530 [25600]/60000]\n",
      "loss: 0.617492 [32000]/60000]\n",
      "loss: 0.642709 [38400]/60000]\n",
      "loss: 0.693941 [44800]/60000]\n",
      "loss: 0.660070 [51200]/60000]\n",
      "loss: 0.624316 [57600]/60000]\n",
      "Test Error: \n",
      " Accuracy: 78.4%, Avg loss: 0.622305 \n",
      "\n",
      "Epoch 15\n",
      "-------------------------------\n",
      "loss: 0.555989 [    0]/60000]\n",
      "loss: 0.655610 [ 6400]/60000]\n",
      "loss: 0.447375 [12800]/60000]\n",
      "loss: 0.688508 [19200]/60000]\n",
      "loss: 0.624046 [25600]/60000]\n",
      "loss: 0.610463 [32000]/60000]\n",
      "loss: 0.630074 [38400]/60000]\n",
      "loss: 0.688387 [44800]/60000]\n",
      "loss: 0.653321 [51200]/60000]\n",
      "loss: 0.614431 [57600]/60000]\n",
      "Test Error: \n",
      " Accuracy: 78.6%, Avg loss: 0.612545 \n",
      "\n",
      "Done!\n"
     ]
    }
   ],
   "source": [
    "epochs = 15\n",
    "\n",
    "for t in range(epochs):\n",
    "    print(f\"Epoch {t+1}\\n-------------------------------\")\n",
    "    train(train_dataloader, model, loss_fn, optimizer)\n",
    "    test(test_dataloader, model, loss_fn)\n",
    "\n",
    "print(\"Done!\")"
   ]
  },
  {
   "cell_type": "code",
   "execution_count": 20,
   "id": "c59f8296",
   "metadata": {},
   "outputs": [
    {
     "name": "stdout",
     "output_type": "stream",
     "text": [
      "Saved PyTorch Model State to test_model.pth\n"
     ]
    }
   ],
   "source": [
    "torch.save(model.state_dict(), \"test_model.pth\")\n",
    "print(\"Saved PyTorch Model State to test_model.pth\")"
   ]
  },
  {
   "cell_type": "code",
   "execution_count": 22,
   "id": "1a4647b4",
   "metadata": {},
   "outputs": [
    {
     "data": {
      "text/plain": [
       "<All keys matched successfully>"
      ]
     },
     "execution_count": 22,
     "metadata": {},
     "output_type": "execute_result"
    }
   ],
   "source": [
    "model = NeuralNetwork()\n",
    "model.load_state_dict(torch.load(\"test_model.pth\"))"
   ]
  },
  {
   "cell_type": "code",
   "execution_count": null,
   "id": "310bb6d5",
   "metadata": {},
   "outputs": [],
   "source": [
    "### PREDICTIONS ###"
   ]
  },
  {
   "cell_type": "code",
   "execution_count": 24,
   "id": "328e4a45",
   "metadata": {},
   "outputs": [],
   "source": [
    "classes = [\n",
    "    \"T-shirt/top\",\n",
    "    \"Trouser\",\n",
    "    \"Pullover\",\n",
    "    \"Dress\",\n",
    "    \"Coat\",\n",
    "    \"Sandal\",\n",
    "    \"Shirt\",\n",
    "    \"Sneaker\",\n",
    "    \"Bag\",\n",
    "    \"Ankle boot\",\n",
    "]"
   ]
  },
  {
   "cell_type": "code",
   "execution_count": 28,
   "id": "25d0c5d4",
   "metadata": {},
   "outputs": [
    {
     "name": "stdout",
     "output_type": "stream",
     "text": [
      "Predicted: \"Ankle boot\", Actual: \"Ankle boot\"\n"
     ]
    }
   ],
   "source": [
    "model.eval()\n",
    "x, y = test_data[0][0], test_data[0][1]\n",
    "with torch.no_grad():\n",
    "    pred = model(x)\n",
    "    predicted, actual = classes[pred[0].argmax(0)], classes[y]\n",
    "    print(f'Predicted: \"{predicted}\", Actual: \"{actual}\"')"
   ]
  },
  {
   "cell_type": "code",
   "execution_count": null,
   "id": "56b57021",
   "metadata": {},
   "outputs": [],
   "source": []
  },
  {
   "cell_type": "code",
   "execution_count": null,
   "id": "839c959d",
   "metadata": {},
   "outputs": [],
   "source": []
  },
  {
   "cell_type": "code",
   "execution_count": null,
   "id": "4ae3844a",
   "metadata": {},
   "outputs": [],
   "source": []
  },
  {
   "cell_type": "code",
   "execution_count": null,
   "id": "2ae2acbb",
   "metadata": {},
   "outputs": [],
   "source": []
  },
  {
   "cell_type": "code",
   "execution_count": null,
   "id": "926df3fb",
   "metadata": {},
   "outputs": [],
   "source": []
  },
  {
   "cell_type": "code",
   "execution_count": null,
   "id": "7ca08c7d",
   "metadata": {},
   "outputs": [],
   "source": []
  },
  {
   "cell_type": "code",
   "execution_count": null,
   "id": "fd9d5735",
   "metadata": {},
   "outputs": [],
   "source": []
  },
  {
   "cell_type": "code",
   "execution_count": null,
   "id": "a0bd0dd3",
   "metadata": {},
   "outputs": [],
   "source": []
  },
  {
   "cell_type": "code",
   "execution_count": null,
   "id": "c562770a",
   "metadata": {},
   "outputs": [],
   "source": []
  }
 ],
 "metadata": {
  "kernelspec": {
   "display_name": "Python 3 (ipykernel)",
   "language": "python",
   "name": "python3"
  },
  "language_info": {
   "codemirror_mode": {
    "name": "ipython",
    "version": 3
   },
   "file_extension": ".py",
   "mimetype": "text/x-python",
   "name": "python",
   "nbconvert_exporter": "python",
   "pygments_lexer": "ipython3",
   "version": "3.10.4"
  }
 },
 "nbformat": 4,
 "nbformat_minor": 5
}
