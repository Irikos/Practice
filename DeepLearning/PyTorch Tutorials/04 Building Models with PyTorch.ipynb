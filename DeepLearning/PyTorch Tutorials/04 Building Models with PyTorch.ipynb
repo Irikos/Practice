{
 "cells": [
  {
   "cell_type": "markdown",
   "id": "d3604388",
   "metadata": {},
   "source": [
    "### PyTorch Building Models \n",
    "#### Link: https://pytorch.org/tutorials/beginner/introyt/modelsyt_tutorial.html"
   ]
  },
  {
   "cell_type": "code",
   "execution_count": 4,
   "id": "332db770",
   "metadata": {},
   "outputs": [],
   "source": [
    "import torch\n"
   ]
  },
  {
   "cell_type": "markdown",
   "id": "94063740",
   "metadata": {},
   "source": [
    "#### torch.nn.Module and torch.nn.Parameter"
   ]
  },
  {
   "cell_type": "code",
   "execution_count": 5,
   "id": "67e344ca",
   "metadata": {},
   "outputs": [],
   "source": [
    "class TinyModel(torch.nn.Module):\n",
    "\n",
    "    def __init__(self):\n",
    "        super(TinyModel, self).__init__()\n",
    "\n",
    "        self.linear1 = torch.nn.Linear(100, 200)\n",
    "        self.activation = torch.nn.ReLU()\n",
    "        self.linear2 = torch.nn.Linear(200, 10)\n",
    "        self.softmax = torch.nn.Softmax()\n",
    "\n",
    "    def forward(self, x):\n",
    "        x = self.linear1(x)\n",
    "        x = self.activation(x)\n",
    "        x = self.linear2(x)\n",
    "        x = self.softmax(x)\n",
    "        return x"
   ]
  },
  {
   "cell_type": "code",
   "execution_count": 9,
   "id": "ebb14fe4",
   "metadata": {},
   "outputs": [
    {
     "name": "stdout",
     "output_type": "stream",
     "text": [
      "The model: \n",
      "TinyModel(\n",
      "  (linear1): Linear(in_features=100, out_features=200, bias=True)\n",
      "  (activation): ReLU()\n",
      "  (linear2): Linear(in_features=200, out_features=10, bias=True)\n",
      "  (softmax): Softmax(dim=None)\n",
      ")\n",
      "\n",
      "\n",
      "Just one layer: \n",
      "Linear(in_features=200, out_features=10, bias=True)\n",
      "\n",
      "\n",
      "Model params: \n",
      "Parameter containing:\n",
      "tensor([[ 0.0951, -0.0967, -0.0756,  ..., -0.0835,  0.0216, -0.0002],\n",
      "        [-0.0279,  0.0085, -0.0953,  ...,  0.0814, -0.0417,  0.0193],\n",
      "        [-0.0302, -0.0915,  0.0849,  ...,  0.0020,  0.0604,  0.0769],\n",
      "        ...,\n",
      "        [ 0.0314,  0.0407,  0.0219,  ..., -0.0105,  0.0622,  0.0702],\n",
      "        [ 0.0586, -0.0422,  0.0004,  ...,  0.0510,  0.0877,  0.0550],\n",
      "        [ 0.0719,  0.0182,  0.0557,  ..., -0.0353,  0.0376, -0.0960]],\n",
      "       requires_grad=True)\n",
      "Parameter containing:\n",
      "tensor([ 0.0033, -0.0116, -0.0965, -0.0786, -0.0259, -0.0741, -0.0149, -0.0001,\n",
      "         0.0488,  0.0552,  0.0431,  0.0161,  0.0094, -0.0809,  0.0344, -0.0473,\n",
      "         0.0090,  0.0908,  0.0121, -0.0224,  0.0226, -0.0312, -0.0429, -0.0412,\n",
      "         0.0737, -0.0580, -0.0853, -0.0716, -0.0980,  0.0619, -0.0059,  0.0473,\n",
      "        -0.0746, -0.0848, -0.0779, -0.0060, -0.0969,  0.0796, -0.0189,  0.0303,\n",
      "        -0.0485, -0.0189,  0.0449, -0.0259,  0.0187,  0.0016,  0.0416, -0.0622,\n",
      "         0.0243,  0.0550,  0.0738,  0.0623, -0.0965,  0.0632,  0.0614, -0.0875,\n",
      "         0.0726, -0.0588,  0.0034,  0.0666,  0.0524, -0.0027,  0.0103, -0.0542,\n",
      "         0.0463,  0.0058,  0.0804,  0.0935, -0.0174,  0.0706,  0.0838, -0.0471,\n",
      "        -0.0020, -0.0175,  0.0652, -0.0001,  0.0247, -0.0344, -0.0184,  0.0324,\n",
      "        -0.0212,  0.0277, -0.0767,  0.0112,  0.0945, -0.0761, -0.0023,  0.0553,\n",
      "         0.0427,  0.0421, -0.0991,  0.0438, -0.0479,  0.0223, -0.0016,  0.0954,\n",
      "         0.0855, -0.0862,  0.0197,  0.0606, -0.0757,  0.0757,  0.0511, -0.0216,\n",
      "         0.0385,  0.0885, -0.0271, -0.0307, -0.0086,  0.0043,  0.0204,  0.0443,\n",
      "         0.0175, -0.0061, -0.0854, -0.0854, -0.0470,  0.0417, -0.0269, -0.0118,\n",
      "         0.0378, -0.0575,  0.0583,  0.0737, -0.0871, -0.0106,  0.0831,  0.0661,\n",
      "         0.0857,  0.0622, -0.0745, -0.0773,  0.0536, -0.0539, -0.0331, -0.0974,\n",
      "         0.0206, -0.0627, -0.0785, -0.0788,  0.0751,  0.0308, -0.0611, -0.0795,\n",
      "        -0.0937,  0.0011, -0.0854,  0.0419,  0.0437, -0.0343,  0.0757, -0.0334,\n",
      "         0.0811, -0.0497, -0.0226,  0.0372, -0.0654, -0.0987, -0.0507, -0.0289,\n",
      "        -0.0927, -0.0674,  0.0844, -0.0786,  0.0661, -0.0691, -0.0332,  0.0045,\n",
      "         0.0483,  0.0986, -0.0751,  0.0188,  0.0642,  0.0078,  0.0888,  0.0302,\n",
      "         0.0314,  0.0497, -0.0732,  0.0218,  0.0648,  0.0048,  0.0434,  0.0095,\n",
      "         0.0106,  0.0628,  0.0367, -0.0922,  0.0761, -0.0863,  0.0281, -0.0670,\n",
      "         0.0607,  0.0816, -0.0523,  0.0905, -0.0844,  0.0085, -0.0654, -0.0297],\n",
      "       requires_grad=True)\n",
      "Parameter containing:\n",
      "tensor([[ 0.0155, -0.0392,  0.0305,  ..., -0.0458,  0.0414, -0.0281],\n",
      "        [-0.0598,  0.0031, -0.0591,  ..., -0.0174, -0.0533,  0.0428],\n",
      "        [ 0.0248, -0.0537, -0.0675,  ..., -0.0432,  0.0295, -0.0610],\n",
      "        ...,\n",
      "        [ 0.0398, -0.0423,  0.0173,  ...,  0.0648, -0.0232, -0.0477],\n",
      "        [ 0.0499, -0.0269, -0.0054,  ...,  0.0143, -0.0648,  0.0428],\n",
      "        [-0.0538,  0.0698,  0.0472,  ..., -0.0055, -0.0077, -0.0584]],\n",
      "       requires_grad=True)\n",
      "Parameter containing:\n",
      "tensor([ 0.0318,  0.0441,  0.0154,  0.0226,  0.0388,  0.0588,  0.0097,  0.0049,\n",
      "         0.0080, -0.0114], requires_grad=True)\n",
      "\n",
      "\n",
      "Layer params: \n",
      "Parameter containing:\n",
      "tensor([[ 0.0155, -0.0392,  0.0305,  ..., -0.0458,  0.0414, -0.0281],\n",
      "        [-0.0598,  0.0031, -0.0591,  ..., -0.0174, -0.0533,  0.0428],\n",
      "        [ 0.0248, -0.0537, -0.0675,  ..., -0.0432,  0.0295, -0.0610],\n",
      "        ...,\n",
      "        [ 0.0398, -0.0423,  0.0173,  ...,  0.0648, -0.0232, -0.0477],\n",
      "        [ 0.0499, -0.0269, -0.0054,  ...,  0.0143, -0.0648,  0.0428],\n",
      "        [-0.0538,  0.0698,  0.0472,  ..., -0.0055, -0.0077, -0.0584]],\n",
      "       requires_grad=True)\n",
      "Parameter containing:\n",
      "tensor([ 0.0318,  0.0441,  0.0154,  0.0226,  0.0388,  0.0588,  0.0097,  0.0049,\n",
      "         0.0080, -0.0114], requires_grad=True)\n"
     ]
    }
   ],
   "source": [
    "tinyModel = TinyModel()\n",
    "\n",
    "print(\"The model: \")\n",
    "print(tinyModel)\n",
    "\n",
    "print(\"\\n\\nJust one layer: \")\n",
    "print(tinyModel.linear2)\n",
    "\n",
    "print(\"\\n\\nModel params: \")\n",
    "for param in tinyModel.parameters():\n",
    "    print(param)\n",
    "\n",
    "print(\"\\n\\nLayer params: \")\n",
    "for param in tinyModel.linear2.parameters():\n",
    "    print(param)"
   ]
  },
  {
   "cell_type": "markdown",
   "id": "54c850c0",
   "metadata": {},
   "source": [
    "### Common layer types\n",
    "#### Linear layers"
   ]
  },
  {
   "cell_type": "code",
   "execution_count": 10,
   "id": "daff4d84",
   "metadata": {},
   "outputs": [
    {
     "name": "stdout",
     "output_type": "stream",
     "text": [
      "Input: \n",
      "tensor([[0.5004, 0.1327, 0.7218]])\n",
      "\n",
      "\n",
      "Weight and Bias parameters:\n",
      "Parameter containing:\n",
      "tensor([[-0.2634, -0.3039,  0.2384],\n",
      "        [ 0.1816,  0.0813, -0.4919]], requires_grad=True)\n",
      "Parameter containing:\n",
      "tensor([-0.4500,  0.5373], requires_grad=True)\n",
      "\n",
      "\n",
      "Output:\n",
      "tensor([[-0.4501,  0.2839]], grad_fn=<AddmmBackward0>)\n"
     ]
    }
   ],
   "source": [
    "lin = torch.nn.Linear(3, 2)\n",
    "x = torch.rand(1, 3)\n",
    "print(\"Input: \")\n",
    "print(x)\n",
    "\n",
    "print(\"\\n\\nWeight and Bias parameters:\")\n",
    "for param in lin.parameters():\n",
    "    print(param)\n",
    "\n",
    "y = lin(x)\n",
    "print(\"\\n\\nOutput:\")\n",
    "print(y)"
   ]
  },
  {
   "cell_type": "markdown",
   "id": "55dcd6e9",
   "metadata": {},
   "source": [
    "#### Convolutional Layers"
   ]
  },
  {
   "cell_type": "code",
   "execution_count": 14,
   "id": "066f86b6",
   "metadata": {},
   "outputs": [],
   "source": [
    "import torch.functional as F\n",
    "\n",
    "class LeNet(torch.nn.Module):\n",
    "    \n",
    "    def __init__(self):\n",
    "        super(LeNet, self).__init__()\n",
    "        # 1 input image channel (black and white), 6 output channels, 5x5 square convolution\n",
    "        # kernel\n",
    "        self.conv1 = torch.nn.Conv2d(1, 6, 5)\n",
    "        self.conv2 = torch.nn.Conv2D(6, 16, 3)\n",
    "        # an affine operation: y = Wx + b\n",
    "        self.fc1 = torch.nn.Linear(16 * 6 * 6, 120)\n",
    "        self.fc2 = torch.nn.Linear(120, 84)\n",
    "        self.fc3 = torch.nn.Linear(84, 10)\n",
    "\n",
    "    def forward(self, x):\n",
    "        x = self.conv1(x)\n",
    "        x = F.relu(x)\n",
    "        x = F.max_pool2d(x, (2, 2))\n",
    "        x = self.conv2(x)\n",
    "        x = F.relu(x)\n",
    "        x = F.max_pool2d(x, (2, 2))\n",
    "        x = self.num_flat_features(x)\n",
    "        x = x.view(-1, x)\n",
    "        x = F.relu(self.fc1(x))\n",
    "        x = F.relu(self.fc2(x))\n",
    "        x = self.fc3(x)\n",
    "\n",
    "    def num_flat_features(self, x):\n",
    "        size = x.size()[1:] # all dimensions except the batch dimension\n",
    "        num_features = 1\n",
    "        for s in size:\n",
    "            num_features *= s\n",
    "        return num_features\n"
   ]
  },
  {
   "cell_type": "markdown",
   "id": "c0c8de91",
   "metadata": {},
   "source": [
    "#### Recurrent Layers"
   ]
  },
  {
   "cell_type": "code",
   "execution_count": 15,
   "id": "355c7098",
   "metadata": {},
   "outputs": [],
   "source": [
    "class LSTMTagger(torch.nn.Module):\n",
    "\n",
    "    def __init__(self, embedding_dim, hidden_dim, vocab_size, tagset_size):\n",
    "        super(LSTMTagger, self).__init__()\n",
    "        self.hidden_dim = hidden_dim\n",
    "\n",
    "        self.word_embeddings = torch.nn.Embedding(vocab_size, embedding_dim)\n",
    "\n",
    "        # The LSTM tages word embeddings as input and outputs hidden states with dimensionality \n",
    "        # hidden_dim\n",
    "        self.lstm = torch.nn.LSTM(embedding_dim, hidden_dim)\n",
    "        # The linear layer that maps from hidden state space to tag space\n",
    "\n",
    "        self.hidden2tag = torch.nn.Linear(hidden_dim, tagset_size)\n",
    "\n",
    "    def forward(self, sentence):\n",
    "        embeds = self.word_embeddings(sentence)\n",
    "        lstm_out, _ = self.lstm(embeds.view(len(sentence), 1, -1))\n",
    "        tag_space = self.hidden2tag(lstm_out.view(len(sentence), -1))\n",
    "        tag_scores = F.log_softmax(tag_space, dim=1)\n",
    "        return tag_scores"
   ]
  },
  {
   "cell_type": "markdown",
   "id": "2789e537",
   "metadata": {},
   "source": [
    "#### Transformers - for another time"
   ]
  },
  {
   "cell_type": "markdown",
   "id": "4b4dab7d",
   "metadata": {},
   "source": [
    "### Other Layers and Functions\n",
    "#### Data Manipulation Layers"
   ]
  },
  {
   "cell_type": "code",
   "execution_count": 18,
   "id": "cf814e0e",
   "metadata": {},
   "outputs": [
    {
     "name": "stdout",
     "output_type": "stream",
     "text": [
      "tensor([[[0.8991, 0.5049, 0.9618, 0.4432, 0.9218, 0.7740],\n",
      "         [0.8438, 0.9428, 0.0590, 0.3887, 0.3772, 0.8513],\n",
      "         [0.8923, 0.2522, 0.3289, 0.3688, 0.6376, 0.7956],\n",
      "         [0.1940, 0.5930, 0.7226, 0.6153, 0.8193, 0.3464],\n",
      "         [0.2910, 0.6459, 0.6008, 0.5372, 0.1866, 0.1060],\n",
      "         [0.4981, 0.6329, 0.7854, 0.3184, 0.0791, 0.1000]]])\n",
      "tensor([[[0.9618, 0.9218],\n",
      "         [0.7854, 0.8193]]])\n"
     ]
    }
   ],
   "source": [
    "my_tensor = torch.rand(1, 6, 6)\n",
    "print(my_tensor)\n",
    "\n",
    "maxpool_layer = torch.nn.MaxPool2d(3)\n",
    "print(maxpool_layer(my_tensor))\n"
   ]
  },
  {
   "cell_type": "code",
   "execution_count": 19,
   "id": "a94a372f",
   "metadata": {},
   "outputs": [
    {
     "name": "stdout",
     "output_type": "stream",
     "text": [
      "tensor([[[22.8302, 11.3415, 14.9114,  5.8982],\n",
      "         [14.0067, 20.4779,  6.2450, 22.4110],\n",
      "         [19.0712, 19.6771, 24.6926, 19.7017],\n",
      "         [14.9916, 22.9226, 23.0302, 12.0728]]])\n",
      "tensor(17.1426)\n",
      "tensor([[[ 1.4774, -0.3909,  0.1896, -1.2761],\n",
      "         [-0.2811,  0.7417, -1.5080,  1.0473],\n",
      "         [-0.7553, -0.4884,  1.7213, -0.4775],\n",
      "         [-0.6750,  0.9658,  0.9880, -1.2788]]],\n",
      "       grad_fn=<NativeBatchNormBackward0>)\n",
      "tensor(-1.2293e-07, grad_fn=<MeanBackward0>)\n"
     ]
    }
   ],
   "source": [
    "my_tensor = torch.rand(1, 4, 4) * 20 + 5\n",
    "print(my_tensor)\n",
    "\n",
    "print(my_tensor.mean())\n",
    "\n",
    "norm_layer = torch.nn.BatchNorm1d(4)\n",
    "normed_tensor = norm_layer(my_tensor)\n",
    "print(normed_tensor)\n",
    "\n",
    "print(normed_tensor.mean())"
   ]
  },
  {
   "cell_type": "code",
   "execution_count": 21,
   "id": "0adce1f9",
   "metadata": {},
   "outputs": [
    {
     "name": "stdout",
     "output_type": "stream",
     "text": [
      "tensor([[[0.2278, 0.0000, 0.0103, 1.4919],\n",
      "         [0.0000, 0.0000, 0.1444, 0.3125],\n",
      "         [0.0000, 0.0000, 0.9807, 0.3606],\n",
      "         [0.4373, 0.0628, 1.5629, 1.4654]]])\n",
      "tensor([[[0.2278, 0.0000, 0.0000, 1.4919],\n",
      "         [0.9628, 0.0000, 0.1444, 0.3125],\n",
      "         [0.6341, 1.0745, 0.0000, 0.3606],\n",
      "         [0.0000, 0.0628, 0.0000, 1.4654]]])\n"
     ]
    }
   ],
   "source": [
    "my_tensor = torch.rand(1, 4, 4)\n",
    "\n",
    "dropout = torch.nn.Dropout(p=0.4)\n",
    "print(dropout(my_tensor))\n",
    "print(dropout(my_tensor))"
   ]
  },
  {
   "cell_type": "code",
   "execution_count": null,
   "id": "ff6c2f52",
   "metadata": {},
   "outputs": [],
   "source": []
  },
  {
   "cell_type": "code",
   "execution_count": null,
   "id": "83ae2b70",
   "metadata": {},
   "outputs": [],
   "source": []
  },
  {
   "cell_type": "code",
   "execution_count": null,
   "id": "6a4bad6a",
   "metadata": {},
   "outputs": [],
   "source": []
  },
  {
   "cell_type": "code",
   "execution_count": null,
   "id": "b40098d1",
   "metadata": {},
   "outputs": [],
   "source": []
  },
  {
   "cell_type": "code",
   "execution_count": null,
   "id": "eff53af7",
   "metadata": {},
   "outputs": [],
   "source": []
  },
  {
   "cell_type": "code",
   "execution_count": null,
   "id": "bcfc17d2",
   "metadata": {},
   "outputs": [],
   "source": []
  },
  {
   "cell_type": "code",
   "execution_count": null,
   "id": "6c26431f",
   "metadata": {},
   "outputs": [],
   "source": []
  },
  {
   "cell_type": "code",
   "execution_count": null,
   "id": "8289fa4a",
   "metadata": {},
   "outputs": [],
   "source": []
  },
  {
   "cell_type": "code",
   "execution_count": null,
   "id": "0fb03d9a",
   "metadata": {},
   "outputs": [],
   "source": []
  },
  {
   "cell_type": "code",
   "execution_count": null,
   "id": "5f77b348",
   "metadata": {},
   "outputs": [],
   "source": []
  },
  {
   "cell_type": "code",
   "execution_count": null,
   "id": "f70a5824",
   "metadata": {},
   "outputs": [],
   "source": []
  },
  {
   "cell_type": "code",
   "execution_count": null,
   "id": "d8166190",
   "metadata": {},
   "outputs": [],
   "source": []
  },
  {
   "cell_type": "code",
   "execution_count": null,
   "id": "4960afb9",
   "metadata": {},
   "outputs": [],
   "source": []
  },
  {
   "cell_type": "code",
   "execution_count": null,
   "id": "9742f155",
   "metadata": {},
   "outputs": [],
   "source": []
  },
  {
   "cell_type": "code",
   "execution_count": null,
   "id": "e7642f7e",
   "metadata": {},
   "outputs": [],
   "source": []
  },
  {
   "cell_type": "code",
   "execution_count": null,
   "id": "0a2c2918",
   "metadata": {},
   "outputs": [],
   "source": []
  },
  {
   "cell_type": "code",
   "execution_count": null,
   "id": "6859445e",
   "metadata": {},
   "outputs": [],
   "source": []
  },
  {
   "cell_type": "code",
   "execution_count": null,
   "id": "abd5d2c1",
   "metadata": {},
   "outputs": [],
   "source": []
  },
  {
   "cell_type": "code",
   "execution_count": null,
   "id": "dec48657",
   "metadata": {},
   "outputs": [],
   "source": []
  },
  {
   "cell_type": "code",
   "execution_count": null,
   "id": "48c7f74e",
   "metadata": {},
   "outputs": [],
   "source": []
  },
  {
   "cell_type": "code",
   "execution_count": null,
   "id": "d4610d9b",
   "metadata": {},
   "outputs": [],
   "source": []
  },
  {
   "cell_type": "code",
   "execution_count": null,
   "id": "78e94a3a",
   "metadata": {},
   "outputs": [],
   "source": []
  },
  {
   "cell_type": "code",
   "execution_count": null,
   "id": "ddf181a7",
   "metadata": {},
   "outputs": [],
   "source": []
  },
  {
   "cell_type": "code",
   "execution_count": null,
   "id": "eb71ad74",
   "metadata": {},
   "outputs": [],
   "source": []
  },
  {
   "cell_type": "code",
   "execution_count": null,
   "id": "d6338458",
   "metadata": {},
   "outputs": [],
   "source": []
  },
  {
   "cell_type": "code",
   "execution_count": null,
   "id": "82ac6a01",
   "metadata": {},
   "outputs": [],
   "source": []
  },
  {
   "cell_type": "code",
   "execution_count": null,
   "id": "c5376d60",
   "metadata": {},
   "outputs": [],
   "source": []
  },
  {
   "cell_type": "code",
   "execution_count": null,
   "id": "2540e49d",
   "metadata": {},
   "outputs": [],
   "source": []
  },
  {
   "cell_type": "code",
   "execution_count": null,
   "id": "0f3276c8",
   "metadata": {},
   "outputs": [],
   "source": []
  },
  {
   "cell_type": "code",
   "execution_count": null,
   "id": "ca029c8f",
   "metadata": {},
   "outputs": [],
   "source": []
  }
 ],
 "metadata": {
  "kernelspec": {
   "display_name": "Python 3.10.4 ('pytorch_tutorials')",
   "language": "python",
   "name": "python3"
  },
  "language_info": {
   "codemirror_mode": {
    "name": "ipython",
    "version": 3
   },
   "file_extension": ".py",
   "mimetype": "text/x-python",
   "name": "python",
   "nbconvert_exporter": "python",
   "pygments_lexer": "ipython3",
   "version": "3.10.4"
  },
  "vscode": {
   "interpreter": {
    "hash": "28b49a647281000ce5f9b25ac41f952198f76433a89acf2ba2ad430f99d5fefa"
   }
  }
 },
 "nbformat": 4,
 "nbformat_minor": 5
}
