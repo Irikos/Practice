{
 "cells": [
  {
   "cell_type": "markdown",
   "id": "3624e0a7",
   "metadata": {},
   "source": [
    "### PyTorch Tensors\n",
    "#### LINK: https://pytorch.org/tutorials/beginner/introyt/tensors_deeper_tutorial.html"
   ]
  },
  {
   "cell_type": "code",
   "execution_count": 1,
   "id": "7273db2c",
   "metadata": {},
   "outputs": [],
   "source": [
    "import torch\n",
    "import math"
   ]
  },
  {
   "cell_type": "code",
   "execution_count": 2,
   "id": "0b7d8b15",
   "metadata": {},
   "outputs": [
    {
     "name": "stdout",
     "output_type": "stream",
     "text": [
      "<class 'torch.Tensor'>\n",
      "tensor([[-1.1404e-06,  4.5646e-41, -1.1404e-06,  4.5646e-41],\n",
      "        [ 0.0000e+00,  0.0000e+00,  0.0000e+00,  0.0000e+00],\n",
      "        [ 0.0000e+00,  0.0000e+00,  0.0000e+00,  0.0000e+00]])\n"
     ]
    }
   ],
   "source": [
    "x = torch.empty(3, 4)\n",
    "print(type(x))\n",
    "print(x)"
   ]
  },
  {
   "cell_type": "code",
   "execution_count": 4,
   "id": "1a79bc31",
   "metadata": {},
   "outputs": [
    {
     "name": "stdout",
     "output_type": "stream",
     "text": [
      "tensor([[0., 0., 0.],\n",
      "        [0., 0., 0.]])\n",
      "tensor([[1., 1., 1.],\n",
      "        [1., 1., 1.]])\n",
      "tensor([[0.3126, 0.3791, 0.3087],\n",
      "        [0.0736, 0.4216, 0.0691]])\n"
     ]
    }
   ],
   "source": [
    "# common cases for initialization\n",
    "zeros = torch.zeros(2, 3)\n",
    "print(zeros)\n",
    "\n",
    "ones = torch.ones(2, 3)\n",
    "print(ones)\n",
    "\n",
    "torch.manual_seed(1729)\n",
    "random = torch.rand(2, 3)\n",
    "print(random)"
   ]
  },
  {
   "cell_type": "markdown",
   "id": "9303e3d3",
   "metadata": {},
   "source": [
    "#### Random Tensors and Seeding"
   ]
  },
  {
   "cell_type": "code",
   "execution_count": 5,
   "id": "7caf467b",
   "metadata": {},
   "outputs": [
    {
     "name": "stdout",
     "output_type": "stream",
     "text": [
      "tensor([[0.3126, 0.3791, 0.3087],\n",
      "        [0.0736, 0.4216, 0.0691]])\n",
      "tensor([[0.2332, 0.4047, 0.2162],\n",
      "        [0.9927, 0.4128, 0.5938]])\n",
      "tensor([[0.3126, 0.3791, 0.3087],\n",
      "        [0.0736, 0.4216, 0.0691]])\n",
      "tensor([[0.2332, 0.4047, 0.2162],\n",
      "        [0.9927, 0.4128, 0.5938]])\n"
     ]
    }
   ],
   "source": [
    "# we use manual seeding when we want reproducible values\n",
    "torch.manual_seed(1729)\n",
    "random1 = torch.rand(2, 3)\n",
    "print(random1)\n",
    "\n",
    "random2 = torch.rand(2, 3)\n",
    "print(random2)\n",
    "\n",
    "torch.manual_seed(1729)\n",
    "random3 = torch.rand(2, 3)\n",
    "print(random3)\n",
    "\n",
    "random4 = torch.rand(2, 3)\n",
    "print(random4)"
   ]
  },
  {
   "cell_type": "markdown",
   "id": "cbc53895",
   "metadata": {},
   "source": [
    "#### Tensor shapes"
   ]
  },
  {
   "cell_type": "code",
   "execution_count": 9,
   "id": "0e60696f",
   "metadata": {},
   "outputs": [
    {
     "name": "stdout",
     "output_type": "stream",
     "text": [
      "torch.Size([2, 2, 3])\n",
      "tensor([[[-3.7888e+29,  3.0872e-41,  1.0000e+00],\n",
      "         [ 1.0000e+00,  1.0000e+00,  1.0000e+00]],\n",
      "\n",
      "        [[ 1.0000e+00,  1.0000e+00,  1.0000e+00],\n",
      "         [ 1.0000e+00,  1.0000e+00,  1.0000e+00]]])\n",
      "torch.Size([2, 2, 3])\n",
      "tensor([[[-1.1403e-06,  4.5646e-41, -1.1403e-06],\n",
      "         [ 4.5646e-41,  0.0000e+00,  0.0000e+00]],\n",
      "\n",
      "        [[ 1.4013e-45,  0.0000e+00,  0.0000e+00],\n",
      "         [ 0.0000e+00,  0.0000e+00,  0.0000e+00]]])\n",
      "torch.Size([2, 2, 3])\n",
      "tensor([[[0., 0., 0.],\n",
      "         [0., 0., 0.]],\n",
      "\n",
      "        [[0., 0., 0.],\n",
      "         [0., 0., 0.]]])\n",
      "torch.Size([2, 2, 3])\n",
      "tensor([[[1., 1., 1.],\n",
      "         [1., 1., 1.]],\n",
      "\n",
      "        [[1., 1., 1.],\n",
      "         [1., 1., 1.]]])\n",
      "torch.Size([2, 2, 3])\n",
      "tensor([[[0.3126, 0.3791, 0.3087],\n",
      "         [0.0736, 0.4216, 0.0691]],\n",
      "\n",
      "        [[0.2332, 0.4047, 0.2162],\n",
      "         [0.9927, 0.4128, 0.5938]]])\n"
     ]
    }
   ],
   "source": [
    "# often, when working with tensors, we will want them to be the same dimension. \n",
    "# Enter the torch.*_like() methods\n",
    "\n",
    "x = torch.empty(2, 2, 3)\n",
    "print(x.shape)\n",
    "print(x)\n",
    "\n",
    "empty_like_x = torch.empty_like(x)\n",
    "print(empty_like_x.shape)\n",
    "print(empty_like_x)\n",
    "\n",
    "zeros_like_x = torch.zeros_like(x)\n",
    "print(zeros_like_x.shape)\n",
    "print(zeros_like_x)\n",
    "\n",
    "ones_like_x = torch.ones_like(x)\n",
    "print(ones_like_x.shape)\n",
    "print(ones_like_x)\n",
    "\n",
    "torch.manual_seed(1729)\n",
    "random_like_x = torch.rand_like(x)\n",
    "print(random_like_x.shape)\n",
    "print(random_like_x)"
   ]
  },
  {
   "cell_type": "code",
   "execution_count": 13,
   "id": "3ca7ebc2",
   "metadata": {},
   "outputs": [
    {
     "name": "stdout",
     "output_type": "stream",
     "text": [
      "tensor([[3.1416, 2.7183],\n",
      "        [1.6180, 0.0073]])\n",
      "tensor([ 2,  3,  5,  7, 11, 13, 17, 19])\n",
      "tensor([[2, 4, 6],\n",
      "        [3, 6, 9]])\n"
     ]
    }
   ],
   "source": [
    "# create a tensor with data directly from a PyTorch collection\n",
    "some_constants = torch.tensor([[3.1415926, 2.71828], [1.61803, 0.0072897]])\n",
    "print(some_constants)\n",
    "\n",
    "some_integers = torch.tensor((2, 3, 5, 7, 11, 13, 17, 19))\n",
    "print(some_integers)\n",
    "\n",
    "more_integers = torch.tensor(((2, 4, 6), [3, 6, 9]))\n",
    "print(more_integers)"
   ]
  },
  {
   "cell_type": "markdown",
   "id": "11a5baf5",
   "metadata": {},
   "source": [
    "#### Tensor Data Types"
   ]
  },
  {
   "cell_type": "code",
   "execution_count": 16,
   "id": "9c62ac67",
   "metadata": {},
   "outputs": [
    {
     "name": "stdout",
     "output_type": "stream",
     "text": [
      "tensor([[1, 1, 1],\n",
      "        [1, 1, 1]], dtype=torch.int16)\n",
      "tensor([[18.3283,  0.2118, 18.4972],\n",
      "        [ 9.8370,  3.8937, 16.1945]], dtype=torch.float64)\n",
      "tensor([[18,  0, 18],\n",
      "        [ 9,  3, 16]], dtype=torch.int32)\n"
     ]
    }
   ],
   "source": [
    "a = torch.ones((2, 3), dtype=torch.int16)\n",
    "print(a)\n",
    "\n",
    "b = torch.rand((2, 3), dtype=torch.float64) * 20.\n",
    "print(b)\n",
    "\n",
    "c = b.to(torch.int32)\n",
    "print(c)"
   ]
  },
  {
   "cell_type": "markdown",
   "id": "cc28be9e",
   "metadata": {},
   "source": [
    "#### Math & Logic with PyTorch Tensors "
   ]
  },
  {
   "cell_type": "code",
   "execution_count": 18,
   "id": "b6925a76",
   "metadata": {},
   "outputs": [
    {
     "name": "stdout",
     "output_type": "stream",
     "text": [
      "tensor([[1., 1.],\n",
      "        [1., 1.]])\n",
      "tensor([[2., 2.],\n",
      "        [2., 2.]])\n",
      "tensor([[3., 3.],\n",
      "        [3., 3.]])\n",
      "tensor([[4., 4.],\n",
      "        [4., 4.]])\n",
      "tensor([[1.4142, 1.4142],\n",
      "        [1.4142, 1.4142]])\n"
     ]
    }
   ],
   "source": [
    "ones = torch.zeros(2, 2) + 1\n",
    "twos = torch.ones(2, 2) * 2\n",
    "threes = (torch.ones(2, 2) * 7 - 1) / 2\n",
    "fours = twos ** 2\n",
    "sqrt2s = twos ** 0.5\n",
    "\n",
    "print(ones)\n",
    "print(twos)\n",
    "print(threes)\n",
    "print(fours)\n",
    "print(sqrt2s)"
   ]
  },
  {
   "cell_type": "code",
   "execution_count": 20,
   "id": "f2c99462",
   "metadata": {},
   "outputs": [
    {
     "name": "stdout",
     "output_type": "stream",
     "text": [
      "tensor([[ 2.,  4.],\n",
      "        [ 8., 16.]])\n",
      "tensor([[5., 5.],\n",
      "        [5., 5.]])\n",
      "tensor([[12., 12.],\n",
      "        [12., 12.]])\n"
     ]
    }
   ],
   "source": [
    "powers2 = twos ** torch.tensor([[1, 2], [3, 4]])\n",
    "print(powers2)\n",
    "\n",
    "fives = ones + fours\n",
    "print(fives)\n",
    "\n",
    "dozens = threes * fours\n",
    "print(dozens)"
   ]
  },
  {
   "cell_type": "code",
   "execution_count": 22,
   "id": "9df8639a",
   "metadata": {},
   "outputs": [],
   "source": [
    "# tensors must be of the same shape\n",
    "a = torch.rand(2, 3)\n",
    "b = torch.rand(3, 2)\n",
    "\n",
    "# print(a * b)"
   ]
  },
  {
   "cell_type": "markdown",
   "id": "c3dba10e",
   "metadata": {},
   "source": [
    "#### In Brief: Tensor Broadcasting"
   ]
  },
  {
   "cell_type": "code",
   "execution_count": 23,
   "id": "7ab2d1c2",
   "metadata": {},
   "outputs": [
    {
     "name": "stdout",
     "output_type": "stream",
     "text": [
      "tensor([[0.1332, 0.0023, 0.4945, 0.3857],\n",
      "        [0.9883, 0.4762, 0.7242, 0.0776]])\n",
      "tensor([[0.2663, 0.0045, 0.9890, 0.7715],\n",
      "        [1.9767, 0.9524, 1.4484, 0.1553]])\n"
     ]
    }
   ],
   "source": [
    "rand = torch.rand(2, 4)\n",
    "doubled = rand * (torch.ones(1, 4) * 2)\n",
    "\n",
    "print(rand)\n",
    "print(doubled)"
   ]
  },
  {
   "cell_type": "code",
   "execution_count": 29,
   "id": "8fdddfc8",
   "metadata": {
    "scrolled": true
   },
   "outputs": [
    {
     "name": "stdout",
     "output_type": "stream",
     "text": [
      "torch.Size([4, 3, 2])\n",
      "tensor([[[0.6339, 0.3208],\n",
      "         [0.4323, 0.1811],\n",
      "         [0.6962, 0.8073]],\n",
      "\n",
      "        [[0.6339, 0.3208],\n",
      "         [0.4323, 0.1811],\n",
      "         [0.6962, 0.8073]],\n",
      "\n",
      "        [[0.6339, 0.3208],\n",
      "         [0.4323, 0.1811],\n",
      "         [0.6962, 0.8073]],\n",
      "\n",
      "        [[0.6339, 0.3208],\n",
      "         [0.4323, 0.1811],\n",
      "         [0.6962, 0.8073]]])\n",
      "torch.Size([4, 3, 2])\n",
      "tensor([[[0.2125, 0.2125],\n",
      "         [0.3977, 0.3977],\n",
      "         [0.3132, 0.3132]],\n",
      "\n",
      "        [[0.2125, 0.2125],\n",
      "         [0.3977, 0.3977],\n",
      "         [0.3132, 0.3132]],\n",
      "\n",
      "        [[0.2125, 0.2125],\n",
      "         [0.3977, 0.3977],\n",
      "         [0.3132, 0.3132]],\n",
      "\n",
      "        [[0.2125, 0.2125],\n",
      "         [0.3977, 0.3977],\n",
      "         [0.3132, 0.3132]]])\n",
      "torch.Size([4, 3, 2])\n",
      "tensor([[[0.6331, 0.8222],\n",
      "         [0.6331, 0.8222],\n",
      "         [0.6331, 0.8222]],\n",
      "\n",
      "        [[0.6331, 0.8222],\n",
      "         [0.6331, 0.8222],\n",
      "         [0.6331, 0.8222]],\n",
      "\n",
      "        [[0.6331, 0.8222],\n",
      "         [0.6331, 0.8222],\n",
      "         [0.6331, 0.8222]],\n",
      "\n",
      "        [[0.6331, 0.8222],\n",
      "         [0.6331, 0.8222],\n",
      "         [0.6331, 0.8222]]])\n"
     ]
    }
   ],
   "source": [
    "# Broadcasting rules examples\n",
    "a = torch.ones(4, 3, 2)\n",
    "\n",
    "b = a * torch.rand(  3, 2) # 3rd and 2nd dims are identical to a, but dim1 is absent\n",
    "print(b.shape)\n",
    "print(b)\n",
    "\n",
    "c = a * torch.rand(  3, 1) # 3rd dimension = 1, 2nd dimension is identical to a, dim1 is absent\n",
    "print(c.shape)\n",
    "print(c)\n",
    "\n",
    "d = a * torch.rand(  1, 2) # 3rd dimension is identical to a, 2nd dimension is 1, 1st dimension is absent\n",
    "print(d.shape)\n",
    "print(d)"
   ]
  },
  {
   "cell_type": "markdown",
   "id": "b3631fea",
   "metadata": {},
   "source": [
    "#### More Math with Tensors"
   ]
  },
  {
   "cell_type": "code",
   "execution_count": 33,
   "id": "174c60b3",
   "metadata": {},
   "outputs": [
    {
     "name": "stdout",
     "output_type": "stream",
     "text": [
      "tensor([[-0.4908,  0.8738,  0.4975,  0.8212],\n",
      "        [ 0.7883,  0.5985, -0.8892,  0.1552]])\n",
      "Common functions:\n",
      "tensor([[0.4908, 0.8738, 0.4975, 0.8212],\n",
      "        [0.7883, 0.5985, 0.8892, 0.1552]])\n",
      "tensor([[-0., 1., 1., 1.],\n",
      "        [1., 1., -0., 1.]])\n",
      "tensor([[-1.,  0.,  0.,  0.],\n",
      "        [ 0.,  0., -1.,  0.]])\n",
      "tensor([[-0.4908,  0.5000,  0.4975,  0.5000],\n",
      "        [ 0.5000,  0.5000, -0.5000,  0.1552]])\n"
     ]
    }
   ],
   "source": [
    "# common functions\n",
    "a = torch.rand(2, 4) * 2 - 1\n",
    "print(a)\n",
    "print('Common functions:')\n",
    "print(torch.abs(a))\n",
    "print(torch.ceil(a))\n",
    "print(torch.floor(a))\n",
    "print(torch.clamp(a, -0.5, 0.5))"
   ]
  },
  {
   "cell_type": "code",
   "execution_count": 34,
   "id": "31f95c33",
   "metadata": {},
   "outputs": [
    {
     "name": "stdout",
     "output_type": "stream",
     "text": [
      "\n",
      "Sine and arcinse:\n",
      "tensor([0.0000, 0.7854, 1.5708, 2.3562])\n",
      "tensor([0.0000, 0.7071, 1.0000, 0.7071])\n",
      "tensor([0.0000, 0.7854, 1.5708, 0.7854])\n"
     ]
    }
   ],
   "source": [
    "# trigonometric functions and their inverses\n",
    "print('\\nSine and arcinse:')\n",
    "angles = torch.tensor([0, math.pi / 4, math.pi / 2, 3 * math.pi / 4])\n",
    "print(angles)\n",
    "sines = torch.sin(angles)\n",
    "print(sines)\n",
    "inverses = torch.asin(sines)\n",
    "print(inverses)"
   ]
  },
  {
   "cell_type": "code",
   "execution_count": 35,
   "id": "4862c21d",
   "metadata": {},
   "outputs": [
    {
     "name": "stdout",
     "output_type": "stream",
     "text": [
      "Bitwise XOR:\n",
      "tensor([3, 2, 1])\n"
     ]
    }
   ],
   "source": [
    "# bitwise operations\n",
    "print('Bitwise XOR:')\n",
    "b = torch.tensor([1, 5, 11])\n",
    "c = torch.tensor([2, 7, 10])\n",
    "print(torch.bitwise_xor(b, c))"
   ]
  },
  {
   "cell_type": "code",
   "execution_count": 36,
   "id": "4ca5b7e8",
   "metadata": {},
   "outputs": [
    {
     "name": "stdout",
     "output_type": "stream",
     "text": [
      "\n",
      "Broadcasted, element-wise equality comparison:\n",
      "tensor([[ True, False],\n",
      "        [False, False]])\n"
     ]
    }
   ],
   "source": [
    "# comparisons:\n",
    "print(\"\\nBroadcasted, element-wise equality comparison:\")\n",
    "d = torch.tensor([[1., 2.], [3., 4.]])\n",
    "e = torch.ones(1, 2) # many comparison ops support broadcasting\n",
    "print(torch.eq(d, e))"
   ]
  },
  {
   "cell_type": "code",
   "execution_count": 40,
   "id": "b7b60fe4",
   "metadata": {},
   "outputs": [
    {
     "name": "stdout",
     "output_type": "stream",
     "text": [
      "\n",
      "Reduction ops:\n",
      "tensor(4.)\n",
      "4.0\n",
      "tensor(2.5000)\n",
      "tensor(1.2910)\n",
      "tensor(24.)\n",
      "tensor([1, 2])\n"
     ]
    }
   ],
   "source": [
    "# reductions\n",
    "print(\"\\nReduction ops:\")\n",
    "print(torch.max(d))        # returns a single-element tensor\n",
    "print(torch.max(d).item()) # extracts the value from the returned tensor\n",
    "print(torch.mean(d))       # average\n",
    "print(torch.std(d))        # standard deviation\n",
    "print(torch.prod(d))       # product of all numbers\n",
    "print(torch.unique(torch.tensor([1, 2, 1, 2, 1, 2]))) # filter unique elements"
   ]
  },
  {
   "cell_type": "code",
   "execution_count": 42,
   "id": "f12744a5",
   "metadata": {},
   "outputs": [
    {
     "name": "stdout",
     "output_type": "stream",
     "text": [
      "\n",
      "Vectors & Matrices:\n",
      "tensor([ 0.,  0., -1.])\n",
      "tensor([[0.2038, 0.2881],\n",
      "        [0.2677, 0.3067]])\n",
      "tensor([[0.6115, 0.8644],\n",
      "        [0.8031, 0.9200]])\n",
      "torch.return_types.svd(\n",
      "U=tensor([[-0.6548, -0.7558],\n",
      "        [-0.7558,  0.6548]]),\n",
      "S=tensor([1.6143, 0.0816]),\n",
      "V=tensor([[-0.6241,  0.7814],\n",
      "        [-0.7814, -0.6241]]))\n"
     ]
    }
   ],
   "source": [
    "# vector and linear algebra operations\n",
    "v1 = torch.tensor([1., 0., 0.])         # x unit vector\n",
    "v2 = torch.tensor([0., 1., 0.])         # y unit vector\n",
    "m1 = torch.rand(2, 2)                   # random matrix\n",
    "m2 = torch.tensor([[3., 0.], [0., 3.]]) # three times identity matrix\n",
    "\n",
    "print('\\nVectors & Matrices:')\n",
    "print(torch.cross(v2, v1)) # negative of z unit vector (v1 x v2 == -v2 x v1)\n",
    "print(m1)\n",
    "m3 = torch.matmul(m1, m2)\n",
    "print(m3)                  # 3 times m1\n",
    "print(torch.svd(m3))       # singular value decomposition"
   ]
  },
  {
   "cell_type": "markdown",
   "id": "f9df94df",
   "metadata": {},
   "source": [
    "#### Altering Tensors in Place"
   ]
  },
  {
   "cell_type": "code",
   "execution_count": 46,
   "id": "3cd0bd22",
   "metadata": {},
   "outputs": [
    {
     "name": "stdout",
     "output_type": "stream",
     "text": [
      "a:\n",
      "tensor([0.0000, 0.7854, 1.5708, 2.3562])\n",
      "tensor([0.0000, 0.7071, 1.0000, 0.7071])\n",
      "tensor([0.0000, 0.7854, 1.5708, 2.3562])\n",
      "\n",
      "b:\n",
      "tensor([0.0000, 0.7854, 1.5708, 2.3562])\n",
      "tensor([0.0000, 0.7071, 1.0000, 0.7071])\n",
      "tensor([0.0000, 0.7071, 1.0000, 0.7071])\n"
     ]
    }
   ],
   "source": [
    "a = torch.tensor([0, math.pi / 4, math.pi / 2, 3 * math.pi / 4])\n",
    "print('a:')\n",
    "print(a)\n",
    "print(torch.sin(a))\n",
    "print(a)\n",
    "\n",
    "\n",
    "b = torch.tensor([0, math.pi / 4, math.pi / 2, 3 * math.pi / 4])\n",
    "print('\\nb:')\n",
    "print(b)\n",
    "print(torch.sin_(b)) # alters the actual tensor\n",
    "print(b)"
   ]
  },
  {
   "cell_type": "code",
   "execution_count": 47,
   "id": "f937b34f",
   "metadata": {},
   "outputs": [
    {
     "name": "stdout",
     "output_type": "stream",
     "text": [
      "Before:\n",
      "tensor([[1., 1.],\n",
      "        [1., 1.]])\n",
      "tensor([[0.6961, 0.5406],\n",
      "        [0.5028, 0.0389]])\n",
      "\n",
      "After adding:\n",
      "tensor([[1.6961, 1.5406],\n",
      "        [1.5028, 1.0389]])\n",
      "tensor([[1.6961, 1.5406],\n",
      "        [1.5028, 1.0389]])\n",
      "tensor([[0.6961, 0.5406],\n",
      "        [0.5028, 0.0389]])\n",
      "\n",
      "After multiplying:\n",
      "tensor([[1.1806, 0.8329],\n",
      "        [0.7555, 0.0404]])\n",
      "tensor([[1.1806, 0.8329],\n",
      "        [0.7555, 0.0404]])\n"
     ]
    }
   ],
   "source": [
    "# similarly but for arithmetic functions\n",
    "a = torch.ones(2, 2)\n",
    "b = torch.rand(2, 2)\n",
    "\n",
    "print(\"Before:\")\n",
    "print(a)\n",
    "print(b)\n",
    "\n",
    "print(\"\\nAfter adding:\")\n",
    "print(a.add_(b))\n",
    "print(a)\n",
    "print(b)\n",
    "print(\"\\nAfter multiplying:\")\n",
    "print(b.mul_(a))\n",
    "print(b)"
   ]
  },
  {
   "cell_type": "code",
   "execution_count": 58,
   "id": "212ac04e",
   "metadata": {},
   "outputs": [
    {
     "name": "stdout",
     "output_type": "stream",
     "text": [
      "tensor([[0., 0.],\n",
      "        [0., 0.]])\n",
      "tensor([[1.2903, 0.7164],\n",
      "        [0.3355, 0.1955]])\n",
      "tensor([[0.3966, 0.7251],\n",
      "        [0.4472, 0.5901]])\n"
     ]
    }
   ],
   "source": [
    "# There is another option for placing the result of a computation in an existing, allocated tensor. \n",
    "# Many of the methods and functions we’ve seen so far - including creation methods! - have an out argument \n",
    "# that lets you specify a tensor to receive the output. \n",
    "# If the out tensor is the correct shape and dtype, this can happen without a new memory allocation:\n",
    "\n",
    "a = torch.rand(2, 2)\n",
    "b = torch.rand(2, 2)\n",
    "c = torch.zeros(2, 2)\n",
    "old_id = id(c)\n",
    "\n",
    "print(c)\n",
    "d = torch.matmul(a, b, out=c)\n",
    "print(c)                # contents of c have changed\n",
    "\n",
    "assert c is d           # test c & d are same object, not just containing equal values\n",
    "assert id(c), old_id    # make sure that our new c is the same object as the old one\n",
    "\n",
    "torch.rand(2, 2, out=c) # works for creation too!\n",
    "print(c)                # c has changed again\n",
    "assert id(c), old_id    # still the same object!"
   ]
  },
  {
   "cell_type": "markdown",
   "id": "ee548a7f",
   "metadata": {},
   "source": [
    "#### Copying Tensors "
   ]
  },
  {
   "cell_type": "code",
   "execution_count": 59,
   "id": "81c939ce",
   "metadata": {},
   "outputs": [
    {
     "name": "stdout",
     "output_type": "stream",
     "text": [
      "tensor([[  1., 561.],\n",
      "        [  1.,   1.]])\n"
     ]
    }
   ],
   "source": [
    "a = torch.ones(2, 2)\n",
    "b = a\n",
    "\n",
    "a[0][1] = 561  # we change a...\n",
    "print(b)       # ...and b is also altered"
   ]
  },
  {
   "cell_type": "code",
   "execution_count": 61,
   "id": "23c40e16",
   "metadata": {},
   "outputs": [
    {
     "name": "stdout",
     "output_type": "stream",
     "text": [
      "tensor([[True, True, True],\n",
      "        [True, True, True]])\n",
      "tensor([[1., 1., 1.],\n",
      "        [1., 1., 1.]])\n"
     ]
    }
   ],
   "source": [
    "# if we want separate ones, we use clone() method\n",
    "a = torch.ones(2, 3)\n",
    "b = a.clone()\n",
    "\n",
    "assert b is not a\n",
    "print(torch.eq(a, b))\n",
    "\n",
    "a[0][1] = 561\n",
    "print(b)\n",
    "\n",
    "# NOTE: If your source tensor has autograd, enabled then so will the clone."
   ]
  },
  {
   "cell_type": "code",
   "execution_count": 62,
   "id": "b0a869dd",
   "metadata": {},
   "outputs": [
    {
     "name": "stdout",
     "output_type": "stream",
     "text": [
      "tensor([[0.1451, 0.1924],\n",
      "        [0.7354, 0.6377]], requires_grad=True)\n",
      "tensor([[0.1451, 0.1924],\n",
      "        [0.7354, 0.6377]], grad_fn=<CloneBackward0>)\n",
      "tensor([[0.1451, 0.1924],\n",
      "        [0.7354, 0.6377]])\n",
      "tensor([[0.1451, 0.1924],\n",
      "        [0.7354, 0.6377]], requires_grad=True)\n"
     ]
    }
   ],
   "source": [
    "a = torch.rand(2, 2, requires_grad=True) # turn on autograd\n",
    "print(a)\n",
    "\n",
    "b = a.clone()\n",
    "print(b)\n",
    "\n",
    "c = a.detach().clone() # turning autograd off for the clone\n",
    "print(c) \n",
    "\n",
    "print(a)"
   ]
  },
  {
   "cell_type": "markdown",
   "id": "c9c1ef89",
   "metadata": {},
   "source": [
    "#### Moving to GPU"
   ]
  },
  {
   "cell_type": "code",
   "execution_count": 63,
   "id": "64b2c994",
   "metadata": {},
   "outputs": [
    {
     "name": "stdout",
     "output_type": "stream",
     "text": [
      "We have a GPU!\n"
     ]
    }
   ],
   "source": [
    "if torch.cuda.is_available():\n",
    "    print(\"We have a GPU!\")\n",
    "else:\n",
    "    print(\"Sorry, CPU only!\")"
   ]
  },
  {
   "cell_type": "code",
   "execution_count": 64,
   "id": "b4095653",
   "metadata": {},
   "outputs": [
    {
     "name": "stdout",
     "output_type": "stream",
     "text": [
      "tensor([[0.3344, 0.2640],\n",
      "        [0.2119, 0.0582]], device='cuda:0')\n"
     ]
    }
   ],
   "source": [
    "if torch.cuda.is_available():\n",
    "    gpu_rand = torch.rand(2, 2, device=\"cuda\")\n",
    "    print(gpu_rand)\n",
    "else:\n",
    "    print(\"Sorry, CPU only!\")"
   ]
  },
  {
   "cell_type": "code",
   "execution_count": 65,
   "id": "7ef7fc5d",
   "metadata": {},
   "outputs": [
    {
     "data": {
      "text/plain": [
       "1"
      ]
     },
     "execution_count": 65,
     "metadata": {},
     "output_type": "execute_result"
    }
   ],
   "source": [
    "torch.cuda.device_count()"
   ]
  },
  {
   "cell_type": "code",
   "execution_count": 67,
   "id": "49f0b875",
   "metadata": {},
   "outputs": [
    {
     "name": "stdout",
     "output_type": "stream",
     "text": [
      "Device:cuda\n",
      "tensor([[0.0024, 0.6778],\n",
      "        [0.2441, 0.6812]], device='cuda:0')\n"
     ]
    }
   ],
   "source": [
    "# better practice\n",
    "if torch.cuda.is_available():\n",
    "    my_device = torch.device(\"cuda\")\n",
    "else:\n",
    "    my_device = torch.device(\"cpu\")\n",
    "\n",
    "print(\"Device:{}\".format(my_device))\n",
    "x = torch.rand(2, 2, device=my_device)\n",
    "print(x)"
   ]
  },
  {
   "cell_type": "code",
   "execution_count": 68,
   "id": "2e77f607",
   "metadata": {},
   "outputs": [],
   "source": [
    "# moving a tensor to another device\n",
    "y = torch.rand(2, 2) # created on the CPU\n",
    "y = y.to(my_device) # moved to GPU"
   ]
  },
  {
   "cell_type": "code",
   "execution_count": 69,
   "id": "f794e18b",
   "metadata": {},
   "outputs": [
    {
     "ename": "RuntimeError",
     "evalue": "Expected one of cpu, cuda, ipu, xpu, mkldnn, opengl, opencl, ideep, hip, ve, ort, mps, xla, lazy, vulkan, meta, hpu, privateuseone device type at start of device string: gpu",
     "output_type": "error",
     "traceback": [
      "\u001b[0;31m---------------------------------------------------------------------------\u001b[0m",
      "\u001b[0;31mRuntimeError\u001b[0m                              Traceback (most recent call last)",
      "Input \u001b[0;32mIn [69]\u001b[0m, in \u001b[0;36m<cell line: 3>\u001b[0;34m()\u001b[0m\n\u001b[1;32m      1\u001b[0m \u001b[38;5;66;03m# if we want to do tensor computations, all the tensors must be on the same device\u001b[39;00m\n\u001b[1;32m      2\u001b[0m x \u001b[38;5;241m=\u001b[39m torch\u001b[38;5;241m.\u001b[39mrand(\u001b[38;5;241m2\u001b[39m, \u001b[38;5;241m2\u001b[39m)\n\u001b[0;32m----> 3\u001b[0m y \u001b[38;5;241m=\u001b[39m \u001b[43mtorch\u001b[49m\u001b[38;5;241;43m.\u001b[39;49m\u001b[43mrand\u001b[49m\u001b[43m(\u001b[49m\u001b[38;5;241;43m2\u001b[39;49m\u001b[43m,\u001b[49m\u001b[43m \u001b[49m\u001b[38;5;241;43m2\u001b[39;49m\u001b[43m,\u001b[49m\u001b[43m \u001b[49m\u001b[43mdevice\u001b[49m\u001b[38;5;241;43m=\u001b[39;49m\u001b[38;5;124;43m\"\u001b[39;49m\u001b[38;5;124;43mgpu\u001b[39;49m\u001b[38;5;124;43m\"\u001b[39;49m\u001b[43m)\u001b[49m\n\u001b[1;32m      5\u001b[0m z \u001b[38;5;241m=\u001b[39m x \u001b[38;5;241m+\u001b[39m y\n",
      "\u001b[0;31mRuntimeError\u001b[0m: Expected one of cpu, cuda, ipu, xpu, mkldnn, opengl, opencl, ideep, hip, ve, ort, mps, xla, lazy, vulkan, meta, hpu, privateuseone device type at start of device string: gpu"
     ]
    }
   ],
   "source": [
    "# if we want to do tensor computations, all the tensors must be on the same device\n",
    "x = torch.rand(2, 2)\n",
    "y = torch.rand(2, 2, device=\"gpu\")\n",
    "\n",
    "z = x + y # exception will be thrown"
   ]
  },
  {
   "cell_type": "markdown",
   "id": "a28f51e3",
   "metadata": {},
   "source": [
    "#### Manipulating Tensor Shapes"
   ]
  },
  {
   "cell_type": "code",
   "execution_count": 70,
   "id": "a1a2ed2a",
   "metadata": {},
   "outputs": [
    {
     "name": "stdout",
     "output_type": "stream",
     "text": [
      "torch.Size([3, 266, 266])\n",
      "torch.Size([1, 3, 266, 266])\n"
     ]
    }
   ],
   "source": [
    "# Changing the Number of Dimensions\n",
    "a = torch.rand(3, 266, 266)\n",
    "b = a.unsqueeze(0)\n",
    "\n",
    "print(a.shape)\n",
    "print(b.shape)\n",
    "# The unsqueeze() method adds a dimension of extent 1. unsqueeze(0) adds it as a new zeroth dimension "
   ]
  },
  {
   "cell_type": "code",
   "execution_count": 75,
   "id": "2f37cf34",
   "metadata": {},
   "outputs": [
    {
     "name": "stdout",
     "output_type": "stream",
     "text": [
      "tensor([[[[[0.4385]]]]])\n"
     ]
    }
   ],
   "source": [
    "c = torch.rand(1, 1, 1, 1, 1)\n",
    "print(c)"
   ]
  },
  {
   "cell_type": "code",
   "execution_count": 80,
   "id": "97c29615",
   "metadata": {},
   "outputs": [
    {
     "name": "stdout",
     "output_type": "stream",
     "text": [
      "torch.Size([1, 20])\n",
      "tensor([[0.0476, 0.5193, 0.9329, 0.1729, 0.3628, 0.6455, 0.5140, 0.8448, 0.1976,\n",
      "         0.8465, 0.3017, 0.1697, 0.7425, 0.2339, 0.7327, 0.1535, 0.5121, 0.0494,\n",
      "         0.4677, 0.4314]])\n",
      "torch.Size([20])\n",
      "tensor([0.0476, 0.5193, 0.9329, 0.1729, 0.3628, 0.6455, 0.5140, 0.8448, 0.1976,\n",
      "        0.8465, 0.3017, 0.1697, 0.7425, 0.2339, 0.7327, 0.1535, 0.5121, 0.0494,\n",
      "        0.4677, 0.4314])\n",
      "torch.Size([2, 2])\n",
      "torch.Size([2, 2])\n",
      "torch.Size([1, 2, 2])\n",
      "torch.Size([2, 2])\n"
     ]
    }
   ],
   "source": [
    "a = torch.rand(1, 20)\n",
    "print(a.shape)\n",
    "print(a)\n",
    "\n",
    "b = a.squeeze(0)\n",
    "print(b.shape)\n",
    "print(b)\n",
    "\n",
    "c = torch.rand(2, 2)\n",
    "print(c.shape)\n",
    "\n",
    "d = c.squeeze(0)\n",
    "print(d.shape)\n",
    "\n",
    "e = torch.rand(1, 2, 2)\n",
    "print(e.shape)\n",
    "\n",
    "f = e.squeeze(0)\n",
    "print(f.shape)"
   ]
  },
  {
   "cell_type": "code",
   "execution_count": 87,
   "id": "ec2a4bb8",
   "metadata": {},
   "outputs": [
    {
     "name": "stdout",
     "output_type": "stream",
     "text": [
      "tensor([[[1., 1.],\n",
      "         [1., 1.],\n",
      "         [1., 1.]],\n",
      "\n",
      "        [[1., 1.],\n",
      "         [1., 1.],\n",
      "         [1., 1.]],\n",
      "\n",
      "        [[1., 1.],\n",
      "         [1., 1.],\n",
      "         [1., 1.]],\n",
      "\n",
      "        [[1., 1.],\n",
      "         [1., 1.],\n",
      "         [1., 1.]]])\n",
      "tensor([[0.3317],\n",
      "        [0.5148],\n",
      "        [0.7466]])\n",
      "tensor([[[0.3317, 0.3317],\n",
      "         [0.5148, 0.5148],\n",
      "         [0.7466, 0.7466]],\n",
      "\n",
      "        [[0.3317, 0.3317],\n",
      "         [0.5148, 0.5148],\n",
      "         [0.7466, 0.7466]],\n",
      "\n",
      "        [[0.3317, 0.3317],\n",
      "         [0.5148, 0.5148],\n",
      "         [0.7466, 0.7466]],\n",
      "\n",
      "        [[0.3317, 0.3317],\n",
      "         [0.5148, 0.5148],\n",
      "         [0.7466, 0.7466]]])\n"
     ]
    }
   ],
   "source": [
    "a = torch.ones(4, 3, 2)\n",
    "print(a)\n",
    "b = torch.rand(3, 1)\n",
    "print(b)\n",
    "c = a * b # 3rd dim = 1, 2nd dim identical to a, 1st dim missing\n",
    "print(c)"
   ]
  },
  {
   "cell_type": "code",
   "execution_count": 90,
   "id": "1408c6b8",
   "metadata": {},
   "outputs": [
    {
     "name": "stdout",
     "output_type": "stream",
     "text": [
      "torch.Size([3, 1])\n",
      "tensor([[[0.2859, 0.2859],\n",
      "         [0.7983, 0.7983],\n",
      "         [0.0026, 0.0026]],\n",
      "\n",
      "        [[0.2859, 0.2859],\n",
      "         [0.7983, 0.7983],\n",
      "         [0.0026, 0.0026]],\n",
      "\n",
      "        [[0.2859, 0.2859],\n",
      "         [0.7983, 0.7983],\n",
      "         [0.0026, 0.0026]],\n",
      "\n",
      "        [[0.2859, 0.2859],\n",
      "         [0.7983, 0.7983],\n",
      "         [0.0026, 0.0026]]])\n"
     ]
    }
   ],
   "source": [
    "a = torch.ones(4, 3, 2)\n",
    "b = torch.rand(   3)     # trying to multiply a * b will give a runtime error\n",
    "c = b.unsqueeze(1)       # change to a 2-dimensional tensor, adding new dim at the end\n",
    "print(c.shape)\n",
    "print(a * c)             # broadcasting works again!"
   ]
  },
  {
   "cell_type": "code",
   "execution_count": 94,
   "id": "8516ee52",
   "metadata": {},
   "outputs": [
    {
     "name": "stdout",
     "output_type": "stream",
     "text": [
      "torch.Size([3, 266, 266])\n",
      "torch.Size([1, 3, 266, 266])\n"
     ]
    }
   ],
   "source": [
    "batch_me = torch.rand(3, 266, 266)\n",
    "print(batch_me.shape)\n",
    "batch_me.unsqueeze_(0)\n",
    "print(batch_me.shape)"
   ]
  },
  {
   "cell_type": "code",
   "execution_count": 96,
   "id": "c49a6dac",
   "metadata": {},
   "outputs": [
    {
     "name": "stdout",
     "output_type": "stream",
     "text": [
      "torch.Size([6, 20, 20])\n",
      "torch.Size([2400])\n",
      "torch.Size([2400])\n"
     ]
    }
   ],
   "source": [
    "# changing the shape of a tensor more radically\n",
    "# for example when interfacing a convolutional layer (features x width x height) with a linear layer (1 dim)\n",
    "output3d = torch.rand(6, 20, 20)\n",
    "print(output3d.shape)\n",
    "\n",
    "input1d = output3d.reshape(6 * 20 * 20)\n",
    "print(input1d.shape)\n",
    "\n",
    "# can also call it as a method on the torch module:\n",
    "print(torch.reshape(output3d, (6 * 20 * 20,)).shape)"
   ]
  },
  {
   "cell_type": "markdown",
   "id": "b9b998e3",
   "metadata": {},
   "source": [
    "#### NumPy Bridge"
   ]
  },
  {
   "cell_type": "code",
   "execution_count": 97,
   "id": "d8fd1ddb",
   "metadata": {},
   "outputs": [],
   "source": [
    "import numpy as np"
   ]
  },
  {
   "cell_type": "code",
   "execution_count": 98,
   "id": "fd62004b",
   "metadata": {},
   "outputs": [
    {
     "name": "stdout",
     "output_type": "stream",
     "text": [
      "[[1. 1. 1.]\n",
      " [1. 1. 1.]]\n",
      "tensor([[1., 1., 1.],\n",
      "        [1., 1., 1.]], dtype=torch.float64)\n"
     ]
    }
   ],
   "source": [
    "numpy_array = np.ones((2, 3))\n",
    "print(numpy_array)\n",
    "\n",
    "pytorch_tensor = torch.from_numpy(numpy_array)\n",
    "print(pytorch_tensor)"
   ]
  },
  {
   "cell_type": "code",
   "execution_count": 99,
   "id": "6b409a0a",
   "metadata": {},
   "outputs": [
    {
     "name": "stdout",
     "output_type": "stream",
     "text": [
      "tensor([[0.7616, 0.0350, 0.1430],\n",
      "        [0.3852, 0.5181, 0.5571]])\n",
      "[[0.76162845 0.03503084 0.143022  ]\n",
      " [0.3852452  0.51806194 0.55711746]]\n"
     ]
    }
   ],
   "source": [
    "# converting the other way\n",
    "pytorch_rand = torch.rand(2, 3)\n",
    "print(pytorch_rand)\n",
    "\n",
    "numpy_rand = pytorch_rand.numpy()\n",
    "print(numpy_rand)"
   ]
  },
  {
   "cell_type": "code",
   "execution_count": 102,
   "id": "7e6ec3a8",
   "metadata": {},
   "outputs": [
    {
     "name": "stdout",
     "output_type": "stream",
     "text": [
      "tensor([[ 1.,  1.,  1.],\n",
      "        [ 1., 23.,  1.]], dtype=torch.float64)\n",
      "[[ 0.76162845  0.03503084  0.143022  ]\n",
      " [ 0.3852452  18.          0.55711746]]\n"
     ]
    }
   ],
   "source": [
    "# the objects use the same underlying memory, meaning changing one also changes the other\n",
    "numpy_array[1, 1] = 23\n",
    "print(pytorch_tensor)\n",
    "\n",
    "pytorch_rand[1, 1] = 18\n",
    "print(numpy_rand)"
   ]
  },
  {
   "cell_type": "code",
   "execution_count": null,
   "id": "f9f41126",
   "metadata": {},
   "outputs": [],
   "source": []
  },
  {
   "cell_type": "code",
   "execution_count": null,
   "id": "55b5929b",
   "metadata": {},
   "outputs": [],
   "source": []
  },
  {
   "cell_type": "code",
   "execution_count": null,
   "id": "0d159c26",
   "metadata": {},
   "outputs": [],
   "source": []
  },
  {
   "cell_type": "code",
   "execution_count": null,
   "id": "252052d4",
   "metadata": {},
   "outputs": [],
   "source": []
  },
  {
   "cell_type": "code",
   "execution_count": null,
   "id": "dc226cec",
   "metadata": {},
   "outputs": [],
   "source": []
  },
  {
   "cell_type": "code",
   "execution_count": null,
   "id": "08fd3523",
   "metadata": {},
   "outputs": [],
   "source": []
  },
  {
   "cell_type": "code",
   "execution_count": null,
   "id": "adb57453",
   "metadata": {},
   "outputs": [],
   "source": []
  },
  {
   "cell_type": "code",
   "execution_count": null,
   "id": "d59ec781",
   "metadata": {},
   "outputs": [],
   "source": []
  },
  {
   "cell_type": "code",
   "execution_count": null,
   "id": "320a2315",
   "metadata": {},
   "outputs": [],
   "source": []
  },
  {
   "cell_type": "code",
   "execution_count": null,
   "id": "d1dd3aba",
   "metadata": {},
   "outputs": [],
   "source": []
  }
 ],
 "metadata": {
  "kernelspec": {
   "display_name": "Python 3 (ipykernel)",
   "language": "python",
   "name": "python3"
  },
  "language_info": {
   "codemirror_mode": {
    "name": "ipython",
    "version": 3
   },
   "file_extension": ".py",
   "mimetype": "text/x-python",
   "name": "python",
   "nbconvert_exporter": "python",
   "pygments_lexer": "ipython3",
   "version": "3.10.4"
  }
 },
 "nbformat": 4,
 "nbformat_minor": 5
}
