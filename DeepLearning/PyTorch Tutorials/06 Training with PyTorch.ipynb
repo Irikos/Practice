{
 "cells": [
  {
   "cell_type": "code",
   "execution_count": 1,
   "metadata": {},
   "outputs": [],
   "source": [
    "### Training with PyTorch\n",
    "#### Link: https://pytorch.org/tutorials/beginner/introyt/trainingyt.html"
   ]
  },
  {
   "cell_type": "code",
   "execution_count": 8,
   "metadata": {},
   "outputs": [],
   "source": [
    "import torch\n",
    "import torchvision\n",
    "import torchvision.transforms as transforms\n",
    "\n",
    "# PyTorch TensorBoard support\n",
    "from torch.utils.tensorboard import SummaryWriter\n",
    "from datetime import datetime\n",
    "\n",
    "import matplotlib.pyplot as plt\n",
    "import numpy as np\n",
    "\n",
    "import torch.nn as nn\n",
    "import torch.nn.functional as F"
   ]
  },
  {
   "cell_type": "code",
   "execution_count": 4,
   "metadata": {},
   "outputs": [
    {
     "name": "stdout",
     "output_type": "stream",
     "text": [
      "Training set has 60000 instances\n",
      "Validation set has 10000 instances\n"
     ]
    }
   ],
   "source": [
    "transform = transforms.Compose(\n",
    "    [\n",
    "        transforms.ToTensor(),\n",
    "        transforms.Normalize((0.5, ), (0.5,))\n",
    "    ]\n",
    ")\n",
    "\n",
    "# Create dataset for training & validation, download if necessary\n",
    "training_set = torchvision.datasets.FashionMNIST(\n",
    "    '/home/irikos/Work/datasets/pytorch_tutorials', \n",
    "    train=True, \n",
    "    transform=transform, \n",
    "    download=True\n",
    "    )\n",
    "validation_set = torchvision.datasets.FashionMNIST(\n",
    "    '/home/irikos/Work/datasets/pytorch_tutorials', \n",
    "    train=False,\n",
    "    transform=transform, \n",
    "    download=True\n",
    "    )\n",
    "\n",
    "# Create data loaders for our datasets; shuffle for training, but not for validation\n",
    "\n",
    "training_loader = torch.utils.data.DataLoader(training_set, batch_size=4, shuffle=True, num_workers=2)\n",
    "validation_loader = torch.utils.data.DataLoader(validation_set, batch_size=4, shuffle=False, num_workers=2)\n",
    "\n",
    "# Class labels\n",
    "classes = ('T-shirt/top', 'Trouser', 'Pullover', 'Dress', 'Coat',\n",
    "        'Sandal', 'Shirt', 'Sneaker', 'Bag', 'Ankle Boot')\n",
    "\n",
    "# Report split sizes\n",
    "print('Training set has {} instances'.format(len(training_set)))\n",
    "print('Validation set has {} instances'.format(len(validation_set)))"
   ]
  },
  {
   "cell_type": "code",
   "execution_count": 6,
   "metadata": {},
   "outputs": [],
   "source": [
    "# Helper function for inline image display\n",
    "def matplotlib_imshow(img, one_channel=False):\n",
    "    if one_channel:\n",
    "        img = img.mean(dim=0)\n",
    "    img = img / 2 + 0.5 # unnormalize\n",
    "    npimg = img.numpy()\n",
    "    if one_channel:\n",
    "        plt.imshow(npimg, cmap=\"Greys\")\n",
    "    else:\n",
    "        plt.imshow(np.transpose(np.img, (1, 2, 0)))"
   ]
  },
  {
   "cell_type": "code",
   "execution_count": 7,
   "metadata": {},
   "outputs": [
    {
     "name": "stdout",
     "output_type": "stream",
     "text": [
      "Shirt  Bag  Bag  Shirt\n"
     ]
    },
    {
     "data": {
      "image/png": "[encoded data removed]",
      "text/plain": [
       "<Figure size 640x480 with 1 Axes>"
      ]
     },
     "metadata": {},
     "output_type": "display_data"
    }
   ],
   "source": [
    "dataiter = iter(training_loader)\n",
    "images, labels = dataiter.next()\n",
    "\n",
    "# Create a grid from the images and show them\n",
    "img_grid = torchvision.utils.make_grid(images)\n",
    "matplotlib_imshow(img_grid, one_channel=True)\n",
    "print('  '.join(classes[labels[j]] for j in range(4)))"
   ]
  },
  {
   "cell_type": "markdown",
   "metadata": {},
   "source": [
    "### The Model"
   ]
  },
  {
   "cell_type": "code",
   "execution_count": 9,
   "metadata": {},
   "outputs": [],
   "source": [
    "# PyTorch models inherit from torch.nn.Module\n",
    "class GarmentClassifier(nn.Module):\n",
    "    def __init__(self):\n",
    "        super(GarmentClassifier, self).__init__()\n",
    "        self.conv1 = nn.Conv2d(1, 6, 5)\n",
    "        self.pool = nn.MaxPool2d(2, 2)\n",
    "        self.conv2 = nn.Conv2d(6, 16, 5)\n",
    "        self.fc1 = nn.Linear(16 * 4 * 4, 120)\n",
    "        self.fc2 = nn.Linear(120, 84)\n",
    "        self.fc3 = nn.Linear(84, 10)\n",
    "\n",
    "    def forward(self, x):\n",
    "        x = self.pool(F.relu(self.conv1(x)))\n",
    "        x = self.pool(F.relu(self.conv2(x)))\n",
    "        x = x.view(-1, 16 * 4 * 4)\n",
    "        x = F.relu(self.fc1(x))\n",
    "        x = F.relu(self.fc2(x))\n",
    "        x = self.fc3(x)\n",
    "        return x"
   ]
  },
  {
   "cell_type": "code",
   "execution_count": 10,
   "metadata": {},
   "outputs": [],
   "source": [
    "model = GarmentClassifier()"
   ]
  },
  {
   "cell_type": "markdown",
   "metadata": {},
   "source": [
    "### Loss Function"
   ]
  },
  {
   "cell_type": "code",
   "execution_count": 12,
   "metadata": {},
   "outputs": [
    {
     "name": "stdout",
     "output_type": "stream",
     "text": [
      "tensor([[0.8940, 0.9775, 0.4562, 0.3596, 0.2612, 0.3066, 0.5181, 0.4128, 0.2227,\n",
      "         0.4450],\n",
      "        [0.9792, 0.0227, 0.2723, 0.2123, 0.7545, 0.8512, 0.7937, 0.7742, 0.6917,\n",
      "         0.6355],\n",
      "        [0.4610, 0.6087, 0.3544, 0.1494, 0.3163, 0.8499, 0.7324, 0.8462, 0.5188,\n",
      "         0.9696],\n",
      "        [0.1202, 0.7510, 0.1000, 0.0653, 0.0627, 0.5525, 0.4715, 0.0234, 0.1801,\n",
      "         0.1646]])\n",
      "tensor([1, 5, 3, 7])\n",
      "Total loss for this batch: 2.31449556350708\n"
     ]
    }
   ],
   "source": [
    "loss_fn = torch.nn.CrossEntropyLoss()\n",
    "\n",
    "# NB: Loss functions expect data in batches, so we're creating batches of 4\n",
    "# Represents the model's confidence in each of the 10 classes for a given input\n",
    "dummy_outputs = torch.rand(4, 10)\n",
    "\n",
    "# Represents the correct class among the 10 being test\n",
    "dummy_labels = torch.tensor([1, 5, 3, 7])\n",
    "\n",
    "print(dummy_outputs)\n",
    "print(dummy_labels)\n",
    "\n",
    "loss = loss_fn(dummy_outputs, dummy_labels)\n",
    "print('Total loss for this batch: {}'.format(loss.item()))"
   ]
  },
  {
   "cell_type": "markdown",
   "metadata": {},
   "source": [
    "### Optimizer"
   ]
  },
  {
   "cell_type": "code",
   "execution_count": 13,
   "metadata": {},
   "outputs": [],
   "source": [
    "optimizer = torch.optim.SGD(model.parameters(), lr=0.001, momentum=0.9)"
   ]
  },
  {
   "cell_type": "markdown",
   "metadata": {},
   "source": [
    "### The training loop"
   ]
  },
  {
   "cell_type": "code",
   "execution_count": 14,
   "metadata": {},
   "outputs": [],
   "source": [
    "def train_one_epoch(epoch_index, tb_writer):\n",
    "    running_loss = 0.0\n",
    "    last_loss = 0\n",
    "\n",
    "    # Here, we use enumerate(training_loader) instead of iter(training_loader) so we can track the batch\n",
    "    # index and do some intra-epoch reporting\n",
    "    for i, data in enumerate(training_loader):\n",
    "        # Every data instance is an input + label pair\n",
    "        inputs, labels = data\n",
    "\n",
    "        # Zero your gradients for every batch\n",
    "        optimizer.zero_grad()\n",
    "\n",
    "        # Make predictions for this batch\n",
    "        outputs = model(inputs)\n",
    "\n",
    "        # Compute the loss and its gradients\n",
    "        loss = loss_fn(outputs, labels)\n",
    "        loss.backward()\n",
    "\n",
    "        # Adjust the learning weights\n",
    "        optimizer.step()\n",
    "\n",
    "        # Gather data and report\n",
    "        if i % 1000 == 999:\n",
    "            last_loss = running_loss / 1000 # loss per batch\n",
    "            print('  batch {} loss: {}'.format(i + 1, last_loss))\n",
    "            tb_x = epoch_index * len(training_loader) + i + 1\n",
    "            tb_writer.add_scalar('Loss/train', last_loss, tb_x)\n",
    "            running_loss = 0.\n",
    "\n",
    "    return last_loss"
   ]
  },
  {
   "cell_type": "code",
   "execution_count": 16,
   "metadata": {},
   "outputs": [
    {
     "name": "stdout",
     "output_type": "stream",
     "text": [
      "EPOCH 1:\n",
      "  batch 1000 loss: 0.0\n",
      "  batch 2000 loss: 0.0\n",
      "  batch 3000 loss: 0.0\n",
      "  batch 4000 loss: 0.0\n",
      "  batch 5000 loss: 0.0\n",
      "  batch 6000 loss: 0.0\n",
      "  batch 7000 loss: 0.0\n",
      "  batch 8000 loss: 0.0\n",
      "  batch 9000 loss: 0.0\n",
      "  batch 10000 loss: 0.0\n",
      "  batch 11000 loss: 0.0\n",
      "  batch 12000 loss: 0.0\n",
      "  batch 13000 loss: 0.0\n",
      "  batch 14000 loss: 0.0\n",
      "  batch 15000 loss: 0.0\n",
      "LOSS train 0.0 valid 0.3840884566307068\n",
      "EPOCH 2:\n",
      "  batch 1000 loss: 0.0\n",
      "  batch 2000 loss: 0.0\n",
      "  batch 3000 loss: 0.0\n",
      "  batch 4000 loss: 0.0\n",
      "  batch 5000 loss: 0.0\n",
      "  batch 6000 loss: 0.0\n",
      "  batch 7000 loss: 0.0\n",
      "  batch 8000 loss: 0.0\n",
      "  batch 9000 loss: 0.0\n",
      "  batch 10000 loss: 0.0\n",
      "  batch 11000 loss: 0.0\n",
      "  batch 12000 loss: 0.0\n",
      "  batch 13000 loss: 0.0\n",
      "  batch 14000 loss: 0.0\n",
      "  batch 15000 loss: 0.0\n",
      "LOSS train 0.0 valid 0.33900269865989685\n",
      "EPOCH 3:\n",
      "  batch 1000 loss: 0.0\n",
      "  batch 2000 loss: 0.0\n",
      "  batch 3000 loss: 0.0\n",
      "  batch 4000 loss: 0.0\n",
      "  batch 5000 loss: 0.0\n",
      "  batch 6000 loss: 0.0\n",
      "  batch 7000 loss: 0.0\n",
      "  batch 8000 loss: 0.0\n",
      "  batch 9000 loss: 0.0\n",
      "  batch 10000 loss: 0.0\n",
      "  batch 11000 loss: 0.0\n",
      "  batch 12000 loss: 0.0\n",
      "  batch 13000 loss: 0.0\n",
      "  batch 14000 loss: 0.0\n",
      "  batch 15000 loss: 0.0\n",
      "LOSS train 0.0 valid 0.3414579927921295\n",
      "EPOCH 4:\n",
      "  batch 1000 loss: 0.0\n",
      "  batch 2000 loss: 0.0\n",
      "  batch 3000 loss: 0.0\n",
      "  batch 4000 loss: 0.0\n",
      "  batch 5000 loss: 0.0\n",
      "  batch 6000 loss: 0.0\n",
      "  batch 7000 loss: 0.0\n",
      "  batch 8000 loss: 0.0\n",
      "  batch 9000 loss: 0.0\n",
      "  batch 10000 loss: 0.0\n",
      "  batch 11000 loss: 0.0\n",
      "  batch 12000 loss: 0.0\n",
      "  batch 13000 loss: 0.0\n",
      "  batch 14000 loss: 0.0\n",
      "  batch 15000 loss: 0.0\n",
      "LOSS train 0.0 valid 0.315001517534256\n",
      "EPOCH 5:\n",
      "  batch 1000 loss: 0.0\n",
      "  batch 2000 loss: 0.0\n",
      "  batch 3000 loss: 0.0\n",
      "  batch 4000 loss: 0.0\n",
      "  batch 5000 loss: 0.0\n",
      "  batch 6000 loss: 0.0\n",
      "  batch 7000 loss: 0.0\n",
      "  batch 8000 loss: 0.0\n",
      "  batch 9000 loss: 0.0\n",
      "  batch 10000 loss: 0.0\n",
      "  batch 11000 loss: 0.0\n",
      "  batch 12000 loss: 0.0\n",
      "  batch 13000 loss: 0.0\n",
      "  batch 14000 loss: 0.0\n",
      "  batch 15000 loss: 0.0\n",
      "LOSS train 0.0 valid 0.32457879185676575\n"
     ]
    }
   ],
   "source": [
    "# Initializing in a separate cell so we can easily add more epochs to the same run\n",
    "timestamp = datetime.now().strftime('%Y%m%d_%H%M%S')\n",
    "writer = SummaryWriter('/home/irikos/Work/Practice/DeepLearning/output/runs/fashion_trainer_{}'.format(timestamp))\n",
    "epoch_number = 0\n",
    "\n",
    "EPOCHS = 5\n",
    "\n",
    "best_vloss = 1_000_000.\n",
    "\n",
    "for epoch in range(EPOCHS):\n",
    "    print('EPOCH {}:'.format(epoch_number + 1))\n",
    "\n",
    "    # Make sure gradient tracking is on, and do a pass over the data\n",
    "    model.train(True)\n",
    "    avg_loss = train_one_epoch(epoch_number, writer)\n",
    "\n",
    "    # We don't need gradients on to do reporting\n",
    "    model.train(False)\n",
    "\n",
    "    running_vloss = 0.0\n",
    "    for i, vdata in enumerate(validation_loader):\n",
    "        vinputs, vlabels = vdata\n",
    "        voutputs = model(vinputs)\n",
    "        vloss = loss_fn(voutputs, vlabels)\n",
    "        running_vloss += vloss\n",
    "\n",
    "    avg_vloss = running_vloss / (i + 1)\n",
    "    print('LOSS train {} valid {}'.format(avg_loss, avg_vloss))\n",
    "\n",
    "    # Log the running loss averaged per batch\n",
    "    # for both training and validation\n",
    "    writer.add_scalars('Training vs. Validation Loss',\n",
    "                    { 'Training' : avg_loss, 'Validation' : avg_vloss },\n",
    "                    epoch_number + 1)\n",
    "    writer.flush()\n",
    "\n",
    "    # Track best performance, and save the model's state\n",
    "    if avg_vloss < best_vloss:\n",
    "        best_vloss = avg_vloss\n",
    "        model_path = 'model_{}_{}'.format(timestamp, epoch_number)\n",
    "        torch.save(model.state_dict(), model_path)\n",
    "\n",
    "    epoch_number += 1"
   ]
  },
  {
   "cell_type": "code",
   "execution_count": 19,
   "metadata": {},
   "outputs": [
    {
     "ename": "NameError",
     "evalue": "name 'PATH' is not defined",
     "output_type": "error",
     "traceback": [
      "\u001b[0;31m---------------------------------------------------------------------------\u001b[0m",
      "\u001b[0;31mNameError\u001b[0m                                 Traceback (most recent call last)",
      "\u001b[1;32m/home/irikos/Work/Practice/DeepLearning/PyTorch Tutorials/06 Training with PyTorch.ipynb Cell 16\u001b[0m in \u001b[0;36m<cell line: 2>\u001b[0;34m()\u001b[0m\n\u001b[1;32m      <a href='vscode-notebook-cell://ssh-remote%2B132.187.218.37/home/irikos/Work/Practice/DeepLearning/PyTorch%20Tutorials/06%20Training%20with%20PyTorch.ipynb#X21sdnNjb2RlLXJlbW90ZQ%3D%3D?line=0'>1</a>\u001b[0m saved_model \u001b[39m=\u001b[39m GarmentClassifier()\n\u001b[0;32m----> <a href='vscode-notebook-cell://ssh-remote%2B132.187.218.37/home/irikos/Work/Practice/DeepLearning/PyTorch%20Tutorials/06%20Training%20with%20PyTorch.ipynb#X21sdnNjb2RlLXJlbW90ZQ%3D%3D?line=1'>2</a>\u001b[0m saved_model\u001b[39m.\u001b[39mload_state_dict(torch\u001b[39m.\u001b[39mload(PATH))\n",
      "\u001b[0;31mNameError\u001b[0m: name 'PATH' is not defined"
     ]
    }
   ],
   "source": [
    "saved_model = GarmentClassifier()\n",
    "saved_model.load_state_dict(torch.load(PATH))"
   ]
  },
  {
   "cell_type": "code",
   "execution_count": null,
   "metadata": {},
   "outputs": [],
   "source": []
  }
 ],
 "metadata": {
  "kernelspec": {
   "display_name": "Python 3.10.4 ('pytorch_tutorials')",
   "language": "python",
   "name": "python3"
  },
  "language_info": {
   "codemirror_mode": {
    "name": "ipython",
    "version": 3
   },
   "file_extension": ".py",
   "mimetype": "text/x-python",
   "name": "python",
   "nbconvert_exporter": "python",
   "pygments_lexer": "ipython3",
   "version": "3.10.4"
  },
  "orig_nbformat": 4,
  "vscode": {
   "interpreter": {
    "hash": "28b49a647281000ce5f9b25ac41f952198f76433a89acf2ba2ad430f99d5fefa"
   }
  }
 },
 "nbformat": 4,
 "nbformat_minor": 2
}
